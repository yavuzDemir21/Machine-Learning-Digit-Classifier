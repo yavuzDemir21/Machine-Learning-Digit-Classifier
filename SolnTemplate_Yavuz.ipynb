{
 "cells": [
  {
   "cell_type": "markdown",
   "metadata": {},
   "source": [
    "<h1><center>CMPE 462 - Project 1<br>Binary Classification with Logistic Regression<br>Due: April 23, 2020, 23:59</center></h1>"
   ]
  },
  {
   "cell_type": "markdown",
   "metadata": {},
   "source": [
    "* **Student ID1:**\n",
    "* **Student ID2:**\n",
    "* **Student ID3:**"
   ]
  },
  {
   "cell_type": "markdown",
   "metadata": {},
   "source": [
    "# Overview\n",
    "\n",
    "In this project, you are going to implement logistic regression from scratch. You are provided\n",
    "a subset of the famous handwritten digit dataset called MNIST. In the subset, you will find images of digit 1 and 5. Therefore, you will be solving a binary classification problem. The project includes feature extraction, model training, and evaluation steps.\n",
    "\n",
    "First, you will load and visualize the data portion we have provided to you and then extract two different set of features to build a classifier on. When you extracted the desired features, you will run your logistic regression implementation with gradient descent on the representations to classify digits into 1 and 5. You will experiment with different learning rates  and regularization parameter ($\\lambda$) and find the optimal $\\lambda$ with 5-fold cross validation. Finally, you will evaluate the implemented models, decide which is the best performing one and visualize a decision boundary.\n",
    "\n",
    "Follow the steps on this notebook that would guide you through the solution step-by-step. Make sure that the notebook reports your work properly and add comments and opinions when necessary."
   ]
  },
  {
   "cell_type": "markdown",
   "metadata": {},
   "source": [
    "**IMPORTANT NOTE:** You are allowed to use third-party libraries such as `numpy` and `matplotlib` to help you implement necessary procedures. However, you should not import any function that accomplishes the task itself. For instance, you can use `numpy` arrays for matrix operations, but you cannot use `scikit-learn` to implement cross validation."
   ]
  },
  {
   "cell_type": "markdown",
   "metadata": {},
   "source": [
    "## Task 1: Feature Extraction (35 Pts)"
   ]
  },
  {
   "cell_type": "markdown",
   "metadata": {},
   "source": [
    "Load the training/test data and labels as numpy arrays (Hint:`np.load`). Train and test data are 1561x256 and 424x256 dimensional matrices, respectively. Each row in the\n",
    "aforementioned matrices corresponds to an image of a digit. The 256 pixels correspond to a 16x16 image. Label 1 is assigned to digit 1 and label -1 is assigned to digit 5."
   ]
  },
  {
   "cell_type": "code",
   "execution_count": 1,
   "metadata": {},
   "outputs": [],
   "source": [
    "import numpy as np\n",
    "import matplotlib.pyplot as plt"
   ]
  },
  {
   "cell_type": "code",
   "execution_count": 2,
   "metadata": {},
   "outputs": [],
   "source": [
    "train_data = np.load(\"./data/train_data.npy\")\n",
    "test_data = np.load(\"./data/test_data.npy\")"
   ]
  },
  {
   "cell_type": "code",
   "execution_count": 3,
   "metadata": {},
   "outputs": [],
   "source": [
    "train_labels = np.load(\"./data/train_labels.npy\")\n",
    "test_labels = np.load(\"./data/test_labels.npy\")"
   ]
  },
  {
   "cell_type": "markdown",
   "metadata": {},
   "source": [
    "**(5 points)** Display two of the digit images, one for digit 1 and one for digit 5. You can use `imshow` function of `matplotlib` library with a suitable colormap. You will first need to reshape 256 pixels to a 16x16 matrix. "
   ]
  },
  {
   "cell_type": "code",
   "execution_count": 4,
   "metadata": {},
   "outputs": [
    {
     "data": {
      "text/plain": [
       "<matplotlib.image.AxesImage at 0x11ef579d0>"
      ]
     },
     "execution_count": 4,
     "metadata": {},
     "output_type": "execute_result"
    },
    {
     "data": {
      "image/png": "[encoded data removed]",
      "text/plain": [
       "<Figure size 432x288 with 1 Axes>"
      ]
     },
     "metadata": {
      "needs_background": "light"
     },
     "output_type": "display_data"
    }
   ],
   "source": [
    "image_one = np.reshape(train_data[0], (16,16))\n",
    "plt.imshow(image_one, cmap='gray')"
   ]
  },
  {
   "cell_type": "code",
   "execution_count": 5,
   "metadata": {},
   "outputs": [
    {
     "data": {
      "text/plain": [
       "<matplotlib.image.AxesImage at 0x11f1cc6d0>"
      ]
     },
     "execution_count": 5,
     "metadata": {},
     "output_type": "execute_result"
    },
    {
     "data": {
      "image/png": "[encoded data removed]",
      "text/plain": [
       "<Figure size 432x288 with 1 Axes>"
      ]
     },
     "metadata": {
      "needs_background": "light"
     },
     "output_type": "display_data"
    }
   ],
   "source": [
    "image_five = np.reshape(train_data[1560], (16,16))\n",
    "plt.imshow(image_five, cmap='gray')"
   ]
  },
  {
   "cell_type": "markdown",
   "metadata": {},
   "source": [
    "**(10 points) Implementing Representation 1:** Extract the **symmetry** and **average intensity** features discussed in the class (see logistic regression lecture notes). To compute the intensity features, compute the average pixel value of the image, and for the symmetry feature, compute the negative of the norm of the difference between the image and its y-axis symmetrical. Search numpy's documentation to find the suitable function at each step. You should extract these two features for each image in the training and test sets. As a result, you should obtain a training data matrix of size 1561x2 and test data matrix of size 424x2.\n",
    "\n",
    "Throughout the notebook, we will refer the representation with these two features as **Representation 1** "
   ]
  },
  {
   "cell_type": "code",
   "execution_count": 6,
   "metadata": {},
   "outputs": [],
   "source": [
    "def norm_of_dif_y_sym( matrix ):\n",
    "   return -np.linalg.norm(np.reshape(matrix, (16,16))-np.fliplr(np.reshape(matrix, (16,16))))"
   ]
  },
  {
   "cell_type": "code",
   "execution_count": 7,
   "metadata": {},
   "outputs": [],
   "source": [
    "symmetry_diff_train_data=np.apply_along_axis(norm_of_dif_y_sym, 1, train_data)\n",
    "symmetry_diff_test_data=np.apply_along_axis(norm_of_dif_y_sym, 1, test_data)"
   ]
  },
  {
   "cell_type": "code",
   "execution_count": 8,
   "metadata": {},
   "outputs": [],
   "source": [
    "intensity_train_data=np.mean(train_data, axis=1)\n",
    "intensity_test_data=np.mean(test_data, axis=1)"
   ]
  },
  {
   "cell_type": "code",
   "execution_count": 9,
   "metadata": {},
   "outputs": [],
   "source": [
    "Represent1_train_data = np.column_stack((intensity_train_data,symmetry_diff_train_data))\n",
    "Represent1_test_data = np.column_stack((intensity_test_data,symmetry_diff_test_data))"
   ]
  },
  {
   "cell_type": "markdown",
   "metadata": {},
   "source": [
    "**(5 points)** Provide two scatter plots, one for training and one for test data. The plots should contain the average intensity values in the x-axis and symmetry values in the\n",
    "y-axis. Denote the data points of label 1 with blue marker shaped <font color='blue'>o</font> and the data points of label -1 with a red marker shaped <font color='red'>x</font>. (Hint: check out `plt.scatter` and its `marker` and `color` parameters). Explicitly state the axis labels and figure title for both plots (Hint: `plt.xlabel`, `plt.ylabel`, `plt.title`). "
   ]
  },
  {
   "cell_type": "code",
   "execution_count": 10,
   "metadata": {},
   "outputs": [],
   "source": [
    "def plotter(x_feature_data,y_feature_data,label_data, legend_pos, x_label_name, y_label_name, title):\n",
    "    plottable=np.column_stack((x_feature_data,y_feature_data))\n",
    "    fig = plt.figure()\n",
    "    ax1 = fig.add_subplot(111)\n",
    "    ax1.scatter(plottable[label_data==-1,0], plottable[label_data== -1,1], marker = 'x', color='red', label='five')\n",
    "    ax1.scatter(plottable[label_data==1,0], plottable[label_data== 1,1], marker = 'o',facecolors='none', edgecolors='blue', label='one')\n",
    "    plt.legend(loc= legend_pos)\n",
    "    plt.xlabel(x_label_name)\n",
    "    plt.ylabel(y_label_name)\n",
    "    plt.title(title)\n",
    "    plt.show()\n",
    "    "
   ]
  },
  {
   "cell_type": "code",
   "execution_count": 11,
   "metadata": {},
   "outputs": [],
   "source": [
    "def plotterStacked(plottable,label_data, legend_pos, x_label_name, y_label_name, title):\n",
    "    fig = plt.figure()\n",
    "    ax1 = fig.add_subplot(111)\n",
    "    ax1.scatter(plottable[label_data==-1,0], plottable[label_data== -1,1], marker = 'x', color='red', label='five')\n",
    "    ax1.scatter(plottable[label_data==1,0], plottable[label_data== 1,1], marker = 'o',facecolors='none', edgecolors='blue', label='one')\n",
    "    plt.legend(loc= legend_pos)\n",
    "    plt.xlabel(x_label_name)\n",
    "    plt.ylabel(y_label_name)\n",
    "    plt.title(title)\n",
    "    plt.show()\n",
    "    "
   ]
  },
  {
   "cell_type": "code",
   "execution_count": 12,
   "metadata": {},
   "outputs": [
    {
     "data": {
      "image/png": "[encoded data removed]",
      "text/plain": [
       "<Figure size 432x288 with 1 Axes>"
      ]
     },
     "metadata": {
      "needs_background": "light"
     },
     "output_type": "display_data"
    }
   ],
   "source": [
    "plotter(intensity_train_data,symmetry_diff_train_data,train_labels, 'upper right', 'Average Intensity', 'Symmetry', 'Plot of Representation 1 / Training data')"
   ]
  },
  {
   "cell_type": "code",
   "execution_count": 13,
   "metadata": {},
   "outputs": [
    {
     "data": {
      "image/png": "[encoded data removed]",
      "text/plain": [
       "<Figure size 432x288 with 1 Axes>"
      ]
     },
     "metadata": {
      "needs_background": "light"
     },
     "output_type": "display_data"
    }
   ],
   "source": [
    "plotter(intensity_test_data,symmetry_diff_test_data,test_labels, 'upper right', 'Average Intensity', 'Symmetry', 'Plot of Representation 1 / Test data')"
   ]
  },
  {
   "cell_type": "markdown",
   "metadata": {},
   "source": [
    "**(15 points) Implementing Representation 2:** Come up with an alternative feature extraction approach. The features can again be 2-D, or higher dimensional. If you use any external resource, please cite the references. Explain the feature extraction procedure clearly in your report; if it is an algorithm, provide the algorithm; if it is a function, provide the mathematical expressions. \n",
    "\n",
    "If your proposed features are 2-D or 3-D, provide the scatter plots similar to the previous step.\n",
    "\n",
    "We will refer this representation proposed by you as **Representation 2**."
   ]
  },
  {
   "cell_type": "code",
   "execution_count": 14,
   "metadata": {},
   "outputs": [],
   "source": [
    "def find_width(img):\n",
    "    width_start= 16\n",
    "    width_end= -1\n",
    "    for i,column in enumerate(img.T):\n",
    "        if column.max() != -1:\n",
    "            if i < width_start:\n",
    "                width_start=i\n",
    "            elif i > width_end:\n",
    "                width_end=i\n",
    "    return width_end-width_start+1"
   ]
  },
  {
   "cell_type": "code",
   "execution_count": 15,
   "metadata": {},
   "outputs": [],
   "source": [
    "def find_partial_width(img,start_index=6,end_index=12):\n",
    "    return find_width(img[start_index:end_index,:])"
   ]
  },
  {
   "cell_type": "code",
   "execution_count": 16,
   "metadata": {},
   "outputs": [],
   "source": [
    "def find_avg_switch(img):\n",
    "    tot_switch= 0\n",
    "    for column in img.T:\n",
    "        for k,val in enumerate(column):\n",
    "            if k == 0: \n",
    "                if val == -1:\n",
    "                    last_color = -1 #black\n",
    "                else:\n",
    "                    last_color = 1 #white\n",
    "            else: \n",
    "                if (val == -1 and last_color == 1) or (val != -1 and last_color == -1):\n",
    "                    last_color*= -1\n",
    "                    tot_switch += 1\n",
    "    return tot_switch/16"
   ]
  },
  {
   "cell_type": "code",
   "execution_count": 17,
   "metadata": {},
   "outputs": [],
   "source": [
    "def find_std(img):\n",
    "    return np.std(np.sum(img, axis = 0))"
   ]
  },
  {
   "cell_type": "code",
   "execution_count": 18,
   "metadata": {},
   "outputs": [],
   "source": [
    "def extract(data):\n",
    "    features= np.empty((len(data),4))\n",
    "    for i, val in enumerate(data):\n",
    "        img = np.reshape(val, (16,16)) \n",
    "        features[i]=[find_width(img),find_avg_switch(img),find_std(img),find_partial_width(img)]\n",
    "    return features # width, switch, std, partial width"
   ]
  },
  {
   "cell_type": "code",
   "execution_count": 19,
   "metadata": {},
   "outputs": [],
   "source": [
    "train_features = extract(train_data)"
   ]
  },
  {
   "cell_type": "code",
   "execution_count": 20,
   "metadata": {},
   "outputs": [
    {
     "data": {
      "text/plain": [
       "array([[ 4.        ,  0.3125    ,  9.04126885,  4.        ],\n",
       "       [ 4.        ,  0.125     ,  8.4742812 ,  3.        ],\n",
       "       [ 4.        ,  0.25      ,  9.25097718,  4.        ],\n",
       "       ...,\n",
       "       [16.        ,  3.625     ,  4.19329957, 15.        ],\n",
       "       [16.        ,  3.875     ,  4.38822559, 15.        ],\n",
       "       [12.        ,  2.25      ,  6.66942215,  9.        ]])"
      ]
     },
     "execution_count": 20,
     "metadata": {},
     "output_type": "execute_result"
    }
   ],
   "source": [
    "train_features"
   ]
  },
  {
   "cell_type": "code",
   "execution_count": 21,
   "metadata": {},
   "outputs": [],
   "source": [
    "test_features = extract(test_data)"
   ]
  },
  {
   "cell_type": "code",
   "execution_count": 22,
   "metadata": {},
   "outputs": [
    {
     "data": {
      "text/plain": [
       "array([[ 6.        ,  0.375     ,  9.42300197,  4.        ],\n",
       "       [ 4.        ,  0.25      ,  9.42052468,  3.        ],\n",
       "       [ 6.        ,  0.3125    , 11.70207048,  6.        ],\n",
       "       ...,\n",
       "       [14.        ,  2.8125    ,  6.96955219, 14.        ],\n",
       "       [16.        ,  2.125     ,  7.56250716, 16.        ],\n",
       "       [16.        ,  3.        ,  5.71604798, 14.        ]])"
      ]
     },
     "execution_count": 22,
     "metadata": {},
     "output_type": "execute_result"
    }
   ],
   "source": [
    "test_features"
   ]
  },
  {
   "cell_type": "code",
   "execution_count": null,
   "metadata": {},
   "outputs": [],
   "source": []
  },
  {
   "cell_type": "code",
   "execution_count": 23,
   "metadata": {},
   "outputs": [
    {
     "data": {
      "image/png": "[encoded data removed]",
      "text/plain": [
       "<Figure size 432x288 with 1 Axes>"
      ]
     },
     "metadata": {
      "needs_background": "light"
     },
     "output_type": "display_data"
    }
   ],
   "source": [
    "plotterStacked(train_features,train_labels, 'upper left', 'feature1', 'feature2', 'Plot of Representation 2 / Training data')"
   ]
  },
  {
   "cell_type": "code",
   "execution_count": null,
   "metadata": {},
   "outputs": [],
   "source": []
  },
  {
   "cell_type": "code",
   "execution_count": 24,
   "metadata": {},
   "outputs": [
    {
     "data": {
      "image/png": "[encoded data removed]",
      "text/plain": [
       "<Figure size 432x288 with 1 Axes>"
      ]
     },
     "metadata": {
      "needs_background": "light"
     },
     "output_type": "display_data"
    }
   ],
   "source": [
    "plotterStacked(test_features,test_labels, 'upper left', 'feature1', 'feature2', 'Plot of Representation 2 / Test data')"
   ]
  },
  {
   "cell_type": "code",
   "execution_count": null,
   "metadata": {},
   "outputs": [],
   "source": []
  },
  {
   "cell_type": "markdown",
   "metadata": {},
   "source": [
    "## Task 2: Logistic Regression (40 Pts)"
   ]
  },
  {
   "cell_type": "markdown",
   "metadata": {},
   "source": [
    "**(20 points)** Implement the logistic regression classifier from scratch with gradient descent and train it using Representation 1 and Representation 2 as inputs. Concatenate\n",
    "1 to your features for the intercept term, such that one data point will look like for 2-D features [1,$x_1$,$x_2$], and the model vector will be [$w_0, w_1, w_2$], where $w_0$ is the intercept parameter. \n",
    "You can refer to lecture notes (Logistic regression slides 29-30) to review the gradient descent learning algorithm and the logistic loss. To implement the gradient of the logistic loss with respect to $w$, first derive its expression by hand. Please include your derivation in your report.\n",
    "\n",
    "To prove that your implementation is converging, keep the loss values at each gradient descent iteration in a numpy array. After the training is finalized, plot the loss values\n",
    "with respect to iteration count (Hint: `plt.plot`). You should observe a decreasing loss as the number of iterations increases. Also, experiment with 5 different learning rates between 0 and 1, and plot the convergence curves for each learning rate in the same plot to observe the effect of the learning rate (step size) on the convergence. \n",
    "\n",
    "To decide when to terminate the gradient descent iterations, check the absolute difference between the current loss value and the loss value of the previous step. If the difference is less than a small number, such as $10^{-5}$, you can exit the loop."
   ]
  },
  {
   "cell_type": "code",
   "execution_count": 25,
   "metadata": {},
   "outputs": [],
   "source": [
    "X_rep1 = np.array([np.ones(1561),symmetry_diff_train_data,intensity_train_data])\n",
    "X_rep2 = np.array([np.ones(1561),train_features[:,1],train_features[:,2]])\n",
    "y = train_labels"
   ]
  },
  {
   "cell_type": "code",
   "execution_count": 26,
   "metadata": {},
   "outputs": [
    {
     "data": {
      "text/plain": [
       "array([[  1.        ,   1.        ,   1.        , ...,   1.        ,\n",
       "          1.        ,   1.        ],\n",
       "       [-14.73038139,  -7.54414488,  -2.62924552, ...,  -5.46605123,\n",
       "        -18.79433223, -15.22272775],\n",
       "       [ -0.32259375,  -0.70753516,  -0.6158125 , ...,  -0.79503125,\n",
       "         -0.38413281,  -0.32205469],\n",
       "       [ -1.        ,   1.        ,   1.        , ...,   1.        ,\n",
       "         -1.        ,  -1.        ]])"
      ]
     },
     "execution_count": 26,
     "metadata": {},
     "output_type": "execute_result"
    }
   ],
   "source": [
    "A = np.concatenate((X_rep1,np.array([y])),axis=0).T\n",
    "np.random.shuffle(A)\n",
    "X_rep1_label = A.T\n",
    "X_rep1_label"
   ]
  },
  {
   "cell_type": "code",
   "execution_count": 27,
   "metadata": {},
   "outputs": [
    {
     "data": {
      "text/plain": [
       "array([[ 1.        ,  1.        ,  1.        , ...,  1.        ,\n",
       "         1.        ,  1.        ],\n",
       "       [ 2.6875    ,  0.25      ,  0.3125    , ...,  0.375     ,\n",
       "         0.0625    ,  0.1875    ],\n",
       "       [ 5.68951559, 11.3363767 ,  8.89548167, ..., 10.21937937,\n",
       "        10.63849705,  7.42843559],\n",
       "       [-1.        ,  1.        ,  1.        , ...,  1.        ,\n",
       "         1.        ,  1.        ]])"
      ]
     },
     "execution_count": 27,
     "metadata": {},
     "output_type": "execute_result"
    }
   ],
   "source": [
    "A = np.concatenate((X_rep2,np.array([y])),axis=0).T\n",
    "np.random.shuffle(A)\n",
    "X_rep2_label = A.T\n",
    "X_rep2_label"
   ]
  },
  {
   "cell_type": "code",
   "execution_count": 28,
   "metadata": {},
   "outputs": [],
   "source": [
    "def sigmoid(s):\n",
    "    return np.exp(s)/(1+np.exp(s))"
   ]
  },
  {
   "cell_type": "code",
   "execution_count": 29,
   "metadata": {},
   "outputs": [],
   "source": [
    "def loss_function(X, y, weights, lm=0):\n",
    "    return np.mean(np.log(1+np.exp(-1*y*np.dot(np.transpose(weights), X)))) + lm*np.dot(np.transpose(weights), weights)/2\n",
    "    "
   ]
  },
  {
   "cell_type": "code",
   "execution_count": 30,
   "metadata": {},
   "outputs": [],
   "source": [
    "def derivative(X, y, weights, lm=0):\n",
    "    exp_term = -1*y*np.dot(np.transpose(weights), X)\n",
    "    return (-y*X*sigmoid(exp_term)).mean(1) + lm*weights"
   ]
  },
  {
   "cell_type": "code",
   "execution_count": 31,
   "metadata": {},
   "outputs": [],
   "source": [
    "def gradient_descent(X, y, weights, learning_rate, lm=0):\n",
    "    losses=[]\n",
    "    diff = 1;\n",
    "    while diff > 0.00001:\n",
    "        loss = loss_function(X,y,weights, lm)\n",
    "        if len(losses) == 0:\n",
    "            diff = loss\n",
    "        else:\n",
    "            diff = np.abs(losses[len(losses)-1]-loss)\n",
    "        losses.append(loss)\n",
    "        gt = derivative(X,y,weights, lm)\n",
    "        vt = -1*gt\n",
    "        weights = weights + learning_rate*vt\n",
    "        \n",
    "    \n",
    "    return weights, np.array(losses).flatten()\n",
    "    "
   ]
  },
  {
   "cell_type": "code",
   "execution_count": 32,
   "metadata": {},
   "outputs": [],
   "source": [
    "weights = np.array([1,1,1])"
   ]
  },
  {
   "cell_type": "code",
   "execution_count": 33,
   "metadata": {
    "scrolled": false
   },
   "outputs": [
    {
     "data": {
      "image/png": "[encoded data removed]",
      "text/plain": [
       "<Figure size 432x288 with 1 Axes>"
      ]
     },
     "metadata": {
      "needs_background": "light"
     },
     "output_type": "display_data"
    }
   ],
   "source": [
    "w, losses = gradient_descent(X_rep1_label[0:3,:],X_rep1_label[3,:], weights, 0.1)\n",
    "\n",
    "plt.plot(losses)\n",
    "plt.xlabel(\"n iteration\")\n",
    "plt.ylabel(\"loss value\")\n",
    "plt.show()"
   ]
  },
  {
   "cell_type": "code",
   "execution_count": 34,
   "metadata": {},
   "outputs": [
    {
     "data": {
      "image/png": "[encoded data removed]",
      "text/plain": [
       "<Figure size 432x288 with 1 Axes>"
      ]
     },
     "metadata": {
      "needs_background": "light"
     },
     "output_type": "display_data"
    }
   ],
   "source": [
    "w, losses = gradient_descent(X_rep1_label[0:3,:],X_rep1_label[3,:], weights, 0.01)\n",
    "\n",
    "plt.plot(losses)\n",
    "plt.xlabel(\"n iteration\")\n",
    "plt.ylabel(\"loss value\")\n",
    "plt.show()"
   ]
  },
  {
   "cell_type": "code",
   "execution_count": 35,
   "metadata": {},
   "outputs": [
    {
     "data": {
      "image/png": "[encoded data removed]",
      "text/plain": [
       "<Figure size 432x288 with 1 Axes>"
      ]
     },
     "metadata": {
      "needs_background": "light"
     },
     "output_type": "display_data"
    }
   ],
   "source": [
    "w, losses = gradient_descent(X_rep1_label[0:3,:],X_rep1_label[3,:], weights, 0.001)\n",
    "\n",
    "plt.plot(losses)\n",
    "plt.xlabel(\"n iteration\")\n",
    "plt.ylabel(\"loss value\")\n",
    "plt.show()"
   ]
  },
  {
   "cell_type": "code",
   "execution_count": 36,
   "metadata": {},
   "outputs": [
    {
     "data": {
      "image/png": "[encoded data removed]",
      "text/plain": [
       "<Figure size 432x288 with 1 Axes>"
      ]
     },
     "metadata": {
      "needs_background": "light"
     },
     "output_type": "display_data"
    }
   ],
   "source": [
    "w, losses = gradient_descent(X_rep1_label[0:3,:],X_rep1_label[3,:], weights, 0.0001)\n",
    "\n",
    "plt.plot(losses)\n",
    "plt.xlabel(\"n iteration\")\n",
    "plt.ylabel(\"loss value\")\n",
    "plt.show()"
   ]
  },
  {
   "cell_type": "code",
   "execution_count": 37,
   "metadata": {},
   "outputs": [
    {
     "data": {
      "image/png": "[encoded data removed]",
      "text/plain": [
       "<Figure size 432x288 with 1 Axes>"
      ]
     },
     "metadata": {
      "needs_background": "light"
     },
     "output_type": "display_data"
    }
   ],
   "source": [
    "w, losses = gradient_descent(X_rep1_label[0:3,:],X_rep1_label[3,:], weights, 0.5)\n",
    "\n",
    "plt.plot(losses)\n",
    "plt.xlabel(\"n iteration\")\n",
    "plt.ylabel(\"loss value\")\n",
    "plt.show()"
   ]
  },
  {
   "cell_type": "markdown",
   "metadata": {},
   "source": [
    "**(10 points)** Implement logistic regression with $\\ell_2$ norm regularization, $||\\mathbf{w}||_{2}^{2}$ . Show that your implementation is working by visualizing the loss over the iterations again. Visualization for a single learning rate and $\\lambda$ suffices. "
   ]
  },
  {
   "cell_type": "code",
   "execution_count": 38,
   "metadata": {},
   "outputs": [
    {
     "data": {
      "image/png": "[encoded data removed]",
      "text/plain": [
       "<Figure size 432x288 with 1 Axes>"
      ]
     },
     "metadata": {
      "needs_background": "light"
     },
     "output_type": "display_data"
    }
   ],
   "source": [
    "\n",
    "w2, losses2 = gradient_descent(X_rep1_label[0:3,:],X_rep1_label[3,:], weights, 0.01, 0.1)\n",
    "\n",
    "plt.plot(losses2)\n",
    "plt.xlabel(\"n iteration\")\n",
    "plt.ylabel(\"loss value\")\n",
    "plt.show()"
   ]
  },
  {
   "cell_type": "markdown",
   "metadata": {},
   "source": [
    "**(10 points)** Implement a 5-fold cross validation procedure to find the optimal $\\lambda$ value for both Representation 1 and 2. Experiment with at least three different $\\lambda$ values between 0 and 1. Report the mean/std of cross validation accuracy of every representation/parameter combination as a table and clearly mark the best configuration in your report. "
   ]
  },
  {
   "cell_type": "code",
   "execution_count": 39,
   "metadata": {},
   "outputs": [],
   "source": [
    "def n_fol_cross_validation(X, y, weights, learning_rate, lm, n):    \n",
    "    loss_values = []\n",
    "    accuracies = []\n",
    "    part = X.shape[1]//n\n",
    "    for i in range(n):\n",
    "        \n",
    "        X_train = np.concatenate( (X[:,0:i*part], X[:,(i+1)*part:]), axis = 1)\n",
    "        y_train = np.array([np.concatenate( (y[0:i*part], y[(i+1)*part:]))])\n",
    "        \n",
    "        X_test = np.array([X[:,i*part:(i+1)*part]])\n",
    "        y_test = np.array([y[i*part:(i+1)*part]])\n",
    "        \n",
    "        new_weights, losses = gradient_descent(X_train, y_train, weights, learning_rate, lm)\n",
    "        loss = loss_function(X_test, y_test, new_weights, lm)\n",
    "        loss_values.append(loss)\n",
    "                \n",
    "        h = sigmoid(np.dot(np.transpose(new_weights), X_test))\n",
    "        accuracy_score = (((h>0.5)-0.5)*2 == y_test).sum()/y_test.shape[1]\n",
    "        accuracies.append(accuracy_score)\n",
    "    \n",
    "    return accuracies, loss_values"
   ]
  },
  {
   "cell_type": "code",
   "execution_count": 40,
   "metadata": {},
   "outputs": [],
   "source": [
    "acc_1_1, loss_1_1 = n_fol_cross_validation(X_rep1_label[0:3,:],X_rep1_label[3,:],weights, 0.05,0,5)"
   ]
  },
  {
   "cell_type": "code",
   "execution_count": 41,
   "metadata": {},
   "outputs": [
    {
     "name": "stdout",
     "output_type": "stream",
     "text": [
      "0.9762820512820513 0.006280742930213293\n"
     ]
    }
   ],
   "source": [
    "print(np.mean(acc_1_1),np.std(acc_1_1))"
   ]
  },
  {
   "cell_type": "code",
   "execution_count": 42,
   "metadata": {},
   "outputs": [],
   "source": [
    "acc_1_2, loss_1_2 = n_fol_cross_validation(X_rep1_label[0:3,:],X_rep1_label[3,:],weights, 0.05,0.3,5)"
   ]
  },
  {
   "cell_type": "code",
   "execution_count": 43,
   "metadata": {
    "scrolled": true
   },
   "outputs": [
    {
     "name": "stdout",
     "output_type": "stream",
     "text": [
      "0.9102564102564102 0.016089615894886077\n"
     ]
    }
   ],
   "source": [
    "print(np.mean(acc_1_2),np.std(acc_1_2))"
   ]
  },
  {
   "cell_type": "code",
   "execution_count": 44,
   "metadata": {},
   "outputs": [],
   "source": [
    "acc_1_3, loss_1_3 = n_fol_cross_validation(X_rep1_label[0:3,:],X_rep1_label[3,:],weights, 0.05,0.6,5)"
   ]
  },
  {
   "cell_type": "code",
   "execution_count": 45,
   "metadata": {},
   "outputs": [
    {
     "name": "stdout",
     "output_type": "stream",
     "text": [
      "0.8307692307692308 0.020210106115941612\n"
     ]
    }
   ],
   "source": [
    "print(np.mean(acc_1_3),np.std(acc_1_3))"
   ]
  },
  {
   "cell_type": "code",
   "execution_count": 46,
   "metadata": {
    "scrolled": true
   },
   "outputs": [],
   "source": [
    "acc_1_4, loss_1_4 = n_fol_cross_validation(X_rep1_label[0:3,:],X_rep1_label[3,:],weights, 0.05,1,5)"
   ]
  },
  {
   "cell_type": "code",
   "execution_count": 47,
   "metadata": {},
   "outputs": [
    {
     "name": "stdout",
     "output_type": "stream",
     "text": [
      "0.7262820512820513 0.03724574114444602\n"
     ]
    }
   ],
   "source": [
    "print(np.mean(acc_1_4),np.std(acc_1_4))"
   ]
  },
  {
   "cell_type": "code",
   "execution_count": 48,
   "metadata": {},
   "outputs": [],
   "source": [
    "acc_1_5, loss_1_5 = n_fol_cross_validation(X_rep1_label[0:3,:],X_rep1_label[3,:],weights, 0.05,0.1,5)"
   ]
  },
  {
   "cell_type": "code",
   "execution_count": 49,
   "metadata": {},
   "outputs": [
    {
     "name": "stdout",
     "output_type": "stream",
     "text": [
      "0.9608974358974359 0.008209133637734433\n"
     ]
    }
   ],
   "source": [
    "print(np.mean(acc_1_5),np.std(acc_1_5))"
   ]
  },
  {
   "cell_type": "code",
   "execution_count": 50,
   "metadata": {},
   "outputs": [],
   "source": [
    "acc_2_1, loss_2_1 = n_fol_cross_validation(X_rep2_label[0:3,:],X_rep2_label[3,:],weights, 0.05,0,5)"
   ]
  },
  {
   "cell_type": "code",
   "execution_count": 51,
   "metadata": {
    "scrolled": false
   },
   "outputs": [
    {
     "name": "stdout",
     "output_type": "stream",
     "text": [
      "0.9942307692307694 0.002398498324855082\n"
     ]
    }
   ],
   "source": [
    "print(np.mean(acc_2_1),np.std(acc_2_1))"
   ]
  },
  {
   "cell_type": "code",
   "execution_count": 52,
   "metadata": {},
   "outputs": [],
   "source": [
    "acc_2_2, loss_2_2 = n_fol_cross_validation(X_rep2_label[0:3,:],X_rep2_label[3,:],weights, 0.05,0.3,5)"
   ]
  },
  {
   "cell_type": "code",
   "execution_count": 53,
   "metadata": {
    "scrolled": true
   },
   "outputs": [
    {
     "name": "stdout",
     "output_type": "stream",
     "text": [
      "0.9423076923076923 0.013598207330510545\n"
     ]
    }
   ],
   "source": [
    "print(np.mean(acc_2_2),np.std(acc_2_2))"
   ]
  },
  {
   "cell_type": "code",
   "execution_count": 54,
   "metadata": {},
   "outputs": [],
   "source": [
    "acc_2_3, loss_2_3 = n_fol_cross_validation(X_rep2_label[0:3,:],X_rep2_label[3,:],weights, 0.05,0.6,5)"
   ]
  },
  {
   "cell_type": "code",
   "execution_count": 55,
   "metadata": {},
   "outputs": [
    {
     "name": "stdout",
     "output_type": "stream",
     "text": [
      "0.8948717948717949 0.019902788072128252\n"
     ]
    }
   ],
   "source": [
    "print(np.mean(acc_2_3),np.std(acc_2_3))"
   ]
  },
  {
   "cell_type": "code",
   "execution_count": 56,
   "metadata": {},
   "outputs": [],
   "source": [
    "acc_2_4, loss_2_4 = n_fol_cross_validation(X_rep2_label[0:3,:],X_rep2_label[3,:],weights, 0.05,1,5)"
   ]
  },
  {
   "cell_type": "code",
   "execution_count": 57,
   "metadata": {
    "scrolled": true
   },
   "outputs": [
    {
     "name": "stdout",
     "output_type": "stream",
     "text": [
      "0.8320512820512821 0.023605067486566628\n"
     ]
    }
   ],
   "source": [
    "print(np.mean(acc_2_4),np.std(acc_2_4))"
   ]
  },
  {
   "cell_type": "code",
   "execution_count": 58,
   "metadata": {},
   "outputs": [],
   "source": [
    "acc_2_5, loss_2_5 = n_fol_cross_validation(X_rep2_label[0:3,:],X_rep2_label[3,:],weights, 0.05,0.1,5)"
   ]
  },
  {
   "cell_type": "code",
   "execution_count": 59,
   "metadata": {},
   "outputs": [
    {
     "name": "stdout",
     "output_type": "stream",
     "text": [
      "0.9769230769230768 0.008455708947610815\n"
     ]
    }
   ],
   "source": [
    "print(np.mean(acc_2_5),np.std(acc_2_5))"
   ]
  },
  {
   "cell_type": "markdown",
   "metadata": {},
   "source": [
    "## Task 3: Evaluation (25 Pts)"
   ]
  },
  {
   "cell_type": "markdown",
   "metadata": {},
   "source": [
    "**(5 points)** Train the logistic regression classifier on Representation 1 and 2 with the best learning rate you decide. Similarly, train the regularized logistic regression classifier with the best $\\lambda$ you obtained by 5-fold cross validation. Report the training and test classification accuracy as \n",
    "\\begin{align*}\n",
    "\\frac{\\text{number of correctly classified samples}}{\\text{total number of samples}}x100\n",
    "\\end{align*}"
   ]
  },
  {
   "cell_type": "code",
   "execution_count": 121,
   "metadata": {},
   "outputs": [],
   "source": [
    "def calculate_accuracy(X_train, y_train, X_test, y_test, weights, learning_rate, lm=0):\n",
    "    w, losses = gradient_descent(X_train, y_train, weights, learning_rate, lm)\n",
    "    \n",
    "    print(w)\n",
    "    h = sigmoid(np.dot(np.transpose(w), X_test))\n",
    "    accuracy_score = (((h>0.5)-0.5)*2 == y_test).sum()/len(y_test)\n",
    "    \n",
    "#    h = sigmoid(np.dot(np.transpose(w), X_train))\n",
    "#   accuracy_score = (((h>0.5)-0.5)*2 == y_train).sum()/len(y_train)\n",
    "\n",
    "    return accuracy_score*100\n"
   ]
  },
  {
   "cell_type": "code",
   "execution_count": 122,
   "metadata": {},
   "outputs": [],
   "source": [
    "from sklearn.metrics import accuracy_score"
   ]
  },
  {
   "cell_type": "code",
   "execution_count": 123,
   "metadata": {},
   "outputs": [
    {
     "data": {
      "text/plain": [
       "array([-1.,  1.,  1., ...,  1., -1., -1.])"
      ]
     },
     "execution_count": 123,
     "metadata": {},
     "output_type": "execute_result"
    }
   ],
   "source": [
    " X_rep1_label[3,:]"
   ]
  },
  {
   "cell_type": "code",
   "execution_count": 124,
   "metadata": {
    "scrolled": true
   },
   "outputs": [
    {
     "name": "stdout",
     "output_type": "stream",
     "text": [
      "[ 6.26541914  0.72781101 -1.66048236]\n"
     ]
    },
    {
     "data": {
      "text/plain": [
       "62.264150943396224"
      ]
     },
     "execution_count": 124,
     "metadata": {},
     "output_type": "execute_result"
    }
   ],
   "source": [
    "calculate_accuracy(X_rep1_label[0:3,:],\\\n",
    "                   X_rep1_label[3,:],\\\n",
    "                   np.array([np.ones(424),Represent1_test_data[:,0],Represent1_test_data[:,1]]),\\\n",
    "                   test_labels, weights, 0.05, 0)"
   ]
  },
  {
   "cell_type": "code",
   "execution_count": null,
   "metadata": {},
   "outputs": [],
   "source": [
    "calculate_accuracy(X_rep1_label[0:3,:],\\\n",
    "                   X_rep1_label[3,:],\\\n",
    "                   np.array([np.ones(424),Represent1_test_data[:,0],Represent1_test_data[:,1]]),\\\n",
    "                   test_labels, weights, 0.001, 0.8)"
   ]
  },
  {
   "cell_type": "code",
   "execution_count": 70,
   "metadata": {},
   "outputs": [
    {
     "name": "stdout",
     "output_type": "stream",
     "text": [
      "[ 0.04277977 -0.39744859  0.15170319]\n",
      "[ 1  1  1  1  1  1  1  1  1  1  1  1  1  1  1  1  1  1  1  1  1  1  1  1\n",
      "  1  1  1  1  1  1  1  1  1  1  1  1  1  1  1  1  1  1  1  1  1  1  1  1\n",
      "  1  1  1  1  1  1  1  1  1  1  1  1  1  1  1  1  1  1  1  1  1  1  1  1\n",
      "  1  1  1  1  1  1  1  1  1  1  1  1  1  1  1  1  1  1  1  1  1  1  1  1\n",
      "  1  1  1  1  1  1  1  1  1  1  1  1  1  1  1  1  1  1  1  1  1  1  1  1\n",
      "  1  1  1  1  1  1  1  1  1  1  1  1  1  1  1  1  1  1  1  1  1  1  1  1\n",
      "  1  1  1  1  1  1  1  1  1  1  1  1  1  1  1  1  1  1  1  1  1  1  1  1\n",
      "  1  1  1  1  1  1  1  1  1  1  1  1  1  1  1  1  1  1  1  1  1  1  1  1\n",
      "  1  1  1  1  1  1  1  1  1  1  1  1  1  1  1  1  1  1  1  1  1  1  1  1\n",
      "  1  1  1  1  1  1  1  1  1  1  1  1  1  1  1  1  1  1  1  1  1  1  1  1\n",
      "  1  1  1  1  1  1  1  1  1  1  1  1  1  1  1  1  1  1  1  1  1  1  1  1\n",
      " -1 -1 -1 -1 -1 -1 -1 -1 -1 -1 -1 -1 -1 -1 -1 -1 -1 -1 -1 -1 -1 -1 -1 -1\n",
      " -1 -1 -1 -1 -1 -1 -1 -1 -1 -1 -1 -1 -1 -1 -1 -1 -1 -1 -1 -1 -1 -1 -1 -1\n",
      " -1 -1 -1 -1 -1 -1 -1 -1 -1 -1 -1 -1 -1 -1 -1 -1 -1 -1 -1 -1 -1 -1 -1 -1\n",
      " -1 -1 -1 -1 -1 -1 -1 -1 -1 -1 -1 -1 -1 -1 -1 -1 -1 -1 -1 -1 -1 -1 -1 -1\n",
      " -1 -1 -1 -1 -1 -1 -1 -1 -1 -1 -1 -1 -1 -1 -1 -1 -1 -1 -1 -1 -1 -1 -1 -1\n",
      " -1 -1 -1 -1 -1 -1 -1 -1 -1 -1 -1 -1 -1 -1 -1 -1 -1 -1 -1 -1 -1 -1 -1 -1\n",
      " -1 -1 -1 -1 -1 -1 -1 -1 -1 -1 -1 -1 -1 -1 -1 -1]\n",
      "[0.78971959 0.79779042 0.84472567 0.76499641 0.76525935 0.82883701\n",
      " 0.82921259 0.80912801 0.84508267 0.83091996 0.77584368 0.83436061\n",
      " 0.78805366 0.79894447 0.80376035 0.78781688 0.75333068 0.80619528\n",
      " 0.84179989 0.82976489 0.68743131 0.79079412 0.81703359 0.83545005\n",
      " 0.84506527 0.81137059 0.84278977 0.81191098 0.79852126 0.78685848\n",
      " 0.755285   0.77823904 0.79858491 0.78991139 0.85466165 0.8311825\n",
      " 0.76315053 0.76318872 0.83624285 0.82368765 0.81997009 0.78180136\n",
      " 0.82473981 0.7723083  0.82637108 0.81063105 0.8084964  0.81872341\n",
      " 0.82276224 0.81984026 0.78309078 0.82338632 0.7962204  0.81864918\n",
      " 0.81343106 0.84489725 0.84334847 0.8250617  0.78434962 0.82527985\n",
      " 0.78684521 0.82954787 0.78481139 0.6318963  0.82475046 0.77249336\n",
      " 0.75627666 0.79473137 0.79549577 0.74181554 0.75145047 0.78382745\n",
      " 0.82059168 0.79282319 0.80716655 0.82464718 0.80998755 0.77814959\n",
      " 0.76586979 0.80546268 0.75792034 0.76633301 0.82583953 0.83494444\n",
      " 0.80303293 0.79433853 0.76466721 0.82266975 0.83233087 0.79988611\n",
      " 0.82597679 0.81894769 0.83414444 0.84458688 0.82967939 0.82379747\n",
      " 0.76748717 0.7877347  0.82807027 0.77522109 0.83574271 0.82842668\n",
      " 0.81110419 0.78461351 0.81239376 0.84101061 0.75668884 0.78683718\n",
      " 0.82844764 0.82836339 0.79879315 0.82649907 0.76255917 0.8296003\n",
      " 0.75227999 0.78103248 0.80424389 0.78351711 0.82435475 0.79458693\n",
      " 0.81037147 0.75852673 0.67495545 0.73377628 0.79743347 0.81749417\n",
      " 0.84531665 0.8199737  0.83112966 0.71010147 0.85417669 0.76826715\n",
      " 0.80784721 0.77966335 0.80427777 0.7842503  0.76765994 0.84179207\n",
      " 0.85080264 0.81600278 0.82703764 0.79104883 0.83326335 0.79473808\n",
      " 0.81300883 0.81736417 0.73658376 0.8251929  0.7937064  0.79111742\n",
      " 0.77630929 0.75228398 0.71396328 0.76965655 0.83355683 0.78629828\n",
      " 0.82621666 0.78201028 0.75691534 0.78759676 0.75063807 0.80904518\n",
      " 0.82646659 0.8207717  0.82381652 0.81140103 0.78981173 0.76827464\n",
      " 0.82616832 0.84331503 0.81493337 0.83363942 0.75568204 0.73749092\n",
      " 0.73491741 0.76413447 0.80778346 0.82564339 0.8072375  0.71141875\n",
      " 0.82759717 0.7561572  0.75431562 0.76585677 0.80393721 0.81388151\n",
      " 0.81821763 0.82775842 0.789529   0.78367235 0.7716176  0.78364427\n",
      " 0.79730233 0.81030543 0.84119438 0.82945356 0.75702545 0.83226336\n",
      " 0.77435654 0.76819283 0.78979084 0.8047232  0.79949989 0.83624319\n",
      " 0.79661464 0.84135384 0.83582824 0.82008235 0.83576817 0.75360724\n",
      " 0.81948707 0.86441543 0.82600238 0.81024343 0.76123197 0.80237119\n",
      " 0.77549714 0.76274125 0.79984174 0.80056873 0.8170361  0.81458436\n",
      " 0.8342615  0.80193552 0.80321411 0.80985921 0.84066709 0.82473008\n",
      " 0.81744366 0.73614921 0.82488703 0.75633947 0.73368802 0.69475171\n",
      " 0.7942038  0.78352235 0.8186338  0.78820919 0.81467706 0.81142671\n",
      " 0.8362413  0.84582273 0.79509988 0.83942887 0.85309607 0.84903491\n",
      " 0.75170955 0.81831566 0.79904613 0.83037091 0.84459466 0.83146641\n",
      " 0.77497449 0.82172052 0.80959183 0.83221651 0.83088482 0.77613421\n",
      " 0.75602573 0.82493061 0.75288809 0.83798909 0.81487702 0.82261783\n",
      " 0.37482224 0.35925394 0.42723569 0.66721129 0.4770917  0.25519763\n",
      " 0.58462618 0.23432167 0.31924457 0.49704794 0.41582798 0.35115867\n",
      " 0.46721499 0.62443257 0.47795171 0.59400666 0.61086425 0.57441726\n",
      " 0.39077482 0.57658103 0.37976311 0.58754241 0.2059673  0.46160774\n",
      " 0.34462588 0.66592574 0.45941367 0.57455237 0.54618218 0.52975169\n",
      " 0.57511098 0.32809107 0.57764615 0.70923466 0.58387852 0.46919891\n",
      " 0.52102959 0.47808829 0.76807961 0.3631752  0.69003525 0.70045942\n",
      " 0.36139792 0.55926454 0.35429218 0.28398285 0.59209898 0.37156436\n",
      " 0.46626423 0.34900807 0.40813025 0.47911027 0.44365005 0.62003956\n",
      " 0.56533003 0.42198922 0.51294058 0.61770727 0.41354769 0.5060271\n",
      " 0.40806125 0.68859166 0.55454509 0.39135865 0.26352817 0.36258571\n",
      " 0.54629298 0.56596465 0.37160827 0.54790218 0.47180672 0.52002772\n",
      " 0.54144482 0.37909438 0.54492867 0.31047448 0.63195016 0.71751959\n",
      " 0.60218661 0.58806833 0.43770321 0.51381354 0.48550397 0.529517\n",
      " 0.28060132 0.64964194 0.56239297 0.32707637 0.51409782 0.54714927\n",
      " 0.31734886 0.60501714 0.51445074 0.52359146 0.4886417  0.49619031\n",
      " 0.52535024 0.47401042 0.424415   0.37723182 0.38056633 0.58414619\n",
      " 0.37856873 0.51584336 0.54739059 0.55478676 0.62116968 0.47138654\n",
      " 0.40876277 0.47342963 0.36136146 0.46076225 0.56649189 0.43938847\n",
      " 0.51417043 0.50017921 0.44022415 0.61361099 0.5495039  0.36691408\n",
      " 0.5124254  0.58667171 0.65297248 0.66529928 0.69336107 0.44137176\n",
      " 0.38133656 0.57371254 0.46921562 0.50213431 0.6497547  0.34677718\n",
      " 0.41191748 0.54151305 0.4006531  0.59287961 0.69756579 0.58552757\n",
      " 0.4844253  0.49150446 0.54864209 0.54023492 0.42522087 0.50307698\n",
      " 0.32867627 0.35809634 0.66104542 0.60010459 0.57735644 0.50551945\n",
      " 0.53146647 0.4806379  0.59019054 0.53750564 0.5478559  0.55805948\n",
      " 0.45717386 0.49556484 0.58551572 0.42985977]\n"
     ]
    },
    {
     "ename": "TypeError",
     "evalue": "'numpy.float64' object is not callable",
     "output_type": "error",
     "traceback": [
      "\u001b[0;31m---------------------------------------------------------------------------\u001b[0m",
      "\u001b[0;31mTypeError\u001b[0m                                 Traceback (most recent call last)",
      "\u001b[0;32m<ipython-input-70-79f7974b936f>\u001b[0m in \u001b[0;36m<module>\u001b[0;34m\u001b[0m\n\u001b[1;32m      2\u001b[0m                    \u001b[0mX_rep2_label\u001b[0m\u001b[0;34m[\u001b[0m\u001b[0;36m3\u001b[0m\u001b[0;34m,\u001b[0m\u001b[0;34m:\u001b[0m\u001b[0;34m]\u001b[0m\u001b[0;34m,\u001b[0m\u001b[0;31m\\\u001b[0m\u001b[0;34m\u001b[0m\u001b[0;34m\u001b[0m\u001b[0m\n\u001b[1;32m      3\u001b[0m                    \u001b[0mnp\u001b[0m\u001b[0;34m.\u001b[0m\u001b[0marray\u001b[0m\u001b[0;34m(\u001b[0m\u001b[0;34m[\u001b[0m\u001b[0mnp\u001b[0m\u001b[0;34m.\u001b[0m\u001b[0mones\u001b[0m\u001b[0;34m(\u001b[0m\u001b[0;36m424\u001b[0m\u001b[0;34m)\u001b[0m\u001b[0;34m,\u001b[0m\u001b[0mtest_features\u001b[0m\u001b[0;34m[\u001b[0m\u001b[0;34m:\u001b[0m\u001b[0;34m,\u001b[0m\u001b[0;36m1\u001b[0m\u001b[0;34m]\u001b[0m\u001b[0;34m,\u001b[0m\u001b[0mtest_features\u001b[0m\u001b[0;34m[\u001b[0m\u001b[0;34m:\u001b[0m\u001b[0;34m,\u001b[0m\u001b[0;36m2\u001b[0m\u001b[0;34m]\u001b[0m\u001b[0;34m]\u001b[0m\u001b[0;34m)\u001b[0m\u001b[0;34m,\u001b[0m\u001b[0;31m\\\u001b[0m\u001b[0;34m\u001b[0m\u001b[0;34m\u001b[0m\u001b[0m\n\u001b[0;32m----> 4\u001b[0;31m                    test_labels, weights, 0.001, 0.8)\n\u001b[0m",
      "\u001b[0;32m<ipython-input-67-c72adb32ccc5>\u001b[0m in \u001b[0;36mcalculate_accuracy\u001b[0;34m(X_train, y_train, X_test, y_test, weights, learning_rate, lm)\u001b[0m\n\u001b[1;32m      7\u001b[0m     \u001b[0mprint\u001b[0m\u001b[0;34m(\u001b[0m\u001b[0my_test\u001b[0m\u001b[0;34m)\u001b[0m\u001b[0;34m\u001b[0m\u001b[0;34m\u001b[0m\u001b[0m\n\u001b[1;32m      8\u001b[0m     \u001b[0mprint\u001b[0m\u001b[0;34m(\u001b[0m\u001b[0mh\u001b[0m\u001b[0;34m)\u001b[0m\u001b[0;34m\u001b[0m\u001b[0;34m\u001b[0m\u001b[0m\n\u001b[0;32m----> 9\u001b[0;31m     \u001b[0mprint\u001b[0m\u001b[0;34m(\u001b[0m\u001b[0maccuracy_score\u001b[0m\u001b[0;34m(\u001b[0m\u001b[0my_test\u001b[0m\u001b[0;34m,\u001b[0m \u001b[0;34m(\u001b[0m\u001b[0;34m(\u001b[0m\u001b[0mh\u001b[0m\u001b[0;34m>\u001b[0m\u001b[0;36m0.5\u001b[0m\u001b[0;34m)\u001b[0m\u001b[0;34m-\u001b[0m\u001b[0;36m0.5\u001b[0m\u001b[0;34m)\u001b[0m\u001b[0;34m*\u001b[0m\u001b[0;36m2\u001b[0m\u001b[0;34m)\u001b[0m\u001b[0;34m)\u001b[0m\u001b[0;34m\u001b[0m\u001b[0;34m\u001b[0m\u001b[0m\n\u001b[0m\u001b[1;32m     10\u001b[0m     \u001b[0;32mreturn\u001b[0m \u001b[0maccuracy_score\u001b[0m\u001b[0;34m*\u001b[0m\u001b[0;36m100\u001b[0m\u001b[0;34m\u001b[0m\u001b[0;34m\u001b[0m\u001b[0m\n",
      "\u001b[0;31mTypeError\u001b[0m: 'numpy.float64' object is not callable"
     ]
    }
   ],
   "source": [
    "calculate_accuracy(X_rep2_label[0:3,:],\\\n",
    "                   X_rep2_label[3,:],\\\n",
    "                   np.array([np.ones(424),test_features[:,1],test_features[:,2]]),\\\n",
    "                   test_labels, weights, 0.001, 0.8)"
   ]
  },
  {
   "cell_type": "code",
   "execution_count": null,
   "metadata": {
    "scrolled": true
   },
   "outputs": [],
   "source": [
    "Represent1_test_data.shape"
   ]
  },
  {
   "cell_type": "code",
   "execution_count": null,
   "metadata": {},
   "outputs": [],
   "source": [
    "np.array([np.ones(424),Represent1_test_data[:,0],Represent1_test_data[:,1]])"
   ]
  },
  {
   "cell_type": "markdown",
   "metadata": {},
   "source": [
    "**(15 points)** Visualize the decision boundary (the line that is given by $\\mathbf{w}^{T}x=0$) obtained from the logistic regression classifier learned without regularization. For this purpose, use only Representation 1. Provide two scatter plots for training and test data points with the decision boundary shown on each of the plots."
   ]
  },
  {
   "cell_type": "code",
   "execution_count": 103,
   "metadata": {
    "scrolled": true
   },
   "outputs": [
    {
     "name": "stdout",
     "output_type": "stream",
     "text": [
      "[ 4.59159276 -4.49266189  0.13656121]\n"
     ]
    }
   ],
   "source": [
    "weights, losses = gradient_descent(X_rep2_label[0:3,:],\\\n",
    "                   X_rep2_label[3,:], weights, 0.05)\n",
    "print(weights)"
   ]
  },
  {
   "cell_type": "code",
   "execution_count": null,
   "metadata": {},
   "outputs": [],
   "source": []
  },
  {
   "cell_type": "code",
   "execution_count": 104,
   "metadata": {},
   "outputs": [],
   "source": [
    "x = np.linspace(0, 20, 1000)\n",
    "y = -(weights[0] + weights[1]*x)/weights[2]"
   ]
  },
  {
   "cell_type": "code",
   "execution_count": 105,
   "metadata": {},
   "outputs": [
    {
     "data": {
      "text/plain": [
       "[<matplotlib.lines.Line2D at 0x12c2f4190>]"
      ]
     },
     "execution_count": 105,
     "metadata": {},
     "output_type": "execute_result"
    },
    {
     "data": {
      "image/png": "[encoded data removed]",
      "text/plain": [
       "<Figure size 432x288 with 1 Axes>"
      ]
     },
     "metadata": {
      "needs_background": "light"
     },
     "output_type": "display_data"
    }
   ],
   "source": [
    "plt.plot(x, y, linestyle='-')  # solid"
   ]
  },
  {
   "cell_type": "markdown",
   "metadata": {},
   "source": [
    "**(5 points)** Comment on your work in your report. Include the answers for the following questions in your discussion. \n",
    "\n",
    "* Did regularization improve the generalization performance (did it help reducing the gap between training and test accuracies/errors)? Did you observe any difference between using Representation 1 and 2?\n",
    "* Which feature set did give the best results? Which one is more discriminative?\n",
    "* What would be your next step to improve test accuracy? "
   ]
  }
 ],
 "metadata": {
  "kernelspec": {
   "display_name": "Python 3",
   "language": "python",
   "name": "python3"
  },
  "language_info": {
   "codemirror_mode": {
    "name": "ipython",
    "version": 3
   },
   "file_extension": ".py",
   "mimetype": "text/x-python",
   "name": "python",
   "nbconvert_exporter": "python",
   "pygments_lexer": "ipython3",
   "version": "3.7.4"
  }
 },
 "nbformat": 4,
 "nbformat_minor": 2
}
