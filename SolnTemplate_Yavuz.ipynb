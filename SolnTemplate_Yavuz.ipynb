{
 "cells": [
  {
   "cell_type": "markdown",
   "metadata": {},
   "source": [
    "<h1><center>CMPE 462 - Project 1<br>Binary Classification with Logistic Regression<br>Due: April 23, 2020, 23:59</center></h1>"
   ]
  },
  {
   "cell_type": "markdown",
   "metadata": {},
   "source": [
    "* **Student ID1:**\n",
    "* **Student ID2:**\n",
    "* **Student ID3:**"
   ]
  },
  {
   "cell_type": "markdown",
   "metadata": {},
   "source": [
    "# Overview\n",
    "\n",
    "In this project, you are going to implement logistic regression from scratch. You are provided\n",
    "a subset of the famous handwritten digit dataset called MNIST. In the subset, you will find images of digit 1 and 5. Therefore, you will be solving a binary classification problem. The project includes feature extraction, model training, and evaluation steps.\n",
    "\n",
    "First, you will load and visualize the data portion we have provided to you and then extract two different set of features to build a classifier on. When you extracted the desired features, you will run your logistic regression implementation with gradient descent on the representations to classify digits into 1 and 5. You will experiment with different learning rates  and regularization parameter ($\\lambda$) and find the optimal $\\lambda$ with 5-fold cross validation. Finally, you will evaluate the implemented models, decide which is the best performing one and visualize a decision boundary.\n",
    "\n",
    "Follow the steps on this notebook that would guide you through the solution step-by-step. Make sure that the notebook reports your work properly and add comments and opinions when necessary."
   ]
  },
  {
   "cell_type": "markdown",
   "metadata": {},
   "source": [
    "**IMPORTANT NOTE:** You are allowed to use third-party libraries such as `numpy` and `matplotlib` to help you implement necessary procedures. However, you should not import any function that accomplishes the task itself. For instance, you can use `numpy` arrays for matrix operations, but you cannot use `scikit-learn` to implement cross validation."
   ]
  },
  {
   "cell_type": "markdown",
   "metadata": {},
   "source": [
    "## Task 1: Feature Extraction (35 Pts)"
   ]
  },
  {
   "cell_type": "markdown",
   "metadata": {},
   "source": [
    "Load the training/test data and labels as numpy arrays (Hint:`np.load`). Train and test data are 1561x256 and 424x256 dimensional matrices, respectively. Each row in the\n",
    "aforementioned matrices corresponds to an image of a digit. The 256 pixels correspond to a 16x16 image. Label 1 is assigned to digit 1 and label -1 is assigned to digit 5."
   ]
  },
  {
   "cell_type": "code",
   "execution_count": 1,
   "metadata": {},
   "outputs": [],
   "source": [
    "import numpy as np"
   ]
  },
  {
   "cell_type": "code",
   "execution_count": 2,
   "metadata": {},
   "outputs": [],
   "source": [
    "train_data = np.load(\"./data/train_data.npy\")"
   ]
  },
  {
   "cell_type": "code",
   "execution_count": 7,
   "metadata": {},
   "outputs": [],
   "source": [
    "train_label = np.load(\"./data/train_labels.npy\")"
   ]
  },
  {
   "cell_type": "code",
   "execution_count": 14,
   "metadata": {},
   "outputs": [
    {
     "data": {
      "text/plain": [
       "array([ 1,  1,  1, ..., -1, -1, -1])"
      ]
     },
     "execution_count": 14,
     "metadata": {},
     "output_type": "execute_result"
    }
   ],
   "source": [
    "train_label"
   ]
  },
  {
   "cell_type": "code",
   "execution_count": 12,
   "metadata": {},
   "outputs": [
    {
     "data": {
      "text/plain": [
       "array([-1.   , -1.   , -1.   , -1.   , -1.   , -1.   , -1.   ,  0.51 ,\n",
       "       -0.213, -1.   , -1.   , -1.   , -1.   , -1.   , -1.   , -1.   ,\n",
       "       -1.   , -1.   , -1.   , -1.   , -1.   , -1.   , -1.   ,  0.292,\n",
       "        0.792, -0.987, -1.   , -1.   , -1.   , -1.   , -1.   , -1.   ,\n",
       "       -1.   , -1.   , -1.   , -1.   , -1.   , -1.   , -1.   ,  0.56 ,\n",
       "        0.975, -0.873, -1.   , -1.   , -1.   , -1.   , -1.   , -1.   ,\n",
       "       -1.   , -1.   , -1.   , -1.   , -1.   , -1.   , -1.   ,  0.745,\n",
       "        0.999, -0.748, -1.   , -1.   , -1.   , -1.   , -1.   , -1.   ,\n",
       "       -1.   , -1.   , -1.   , -1.   , -1.   , -1.   , -1.   ,  0.596,\n",
       "        1.   , -0.601, -1.   , -1.   , -1.   , -1.   , -1.   , -1.   ,\n",
       "       -1.   , -1.   , -1.   , -1.   , -1.   , -1.   , -1.   ,  0.714,\n",
       "        1.   , -0.585, -1.   , -1.   , -1.   , -1.   , -1.   , -1.   ,\n",
       "       -1.   , -1.   , -1.   , -1.   , -1.   , -1.   , -0.998,  0.714,\n",
       "        1.   , -0.454, -1.   , -1.   , -1.   , -1.   , -1.   , -1.   ,\n",
       "       -1.   , -1.   , -1.   , -1.   , -1.   , -1.   , -0.997,  0.798,\n",
       "        1.   , -0.538, -1.   , -1.   , -1.   , -1.   , -1.   , -1.   ,\n",
       "       -1.   , -1.   , -1.   , -1.   , -1.   , -1.   , -1.   ,  0.402,\n",
       "        1.   , -0.39 , -1.   , -1.   , -1.   , -1.   , -1.   , -1.   ,\n",
       "       -1.   , -1.   , -1.   , -1.   , -1.   , -1.   , -1.   ,  0.354,\n",
       "        1.   , -0.142, -1.   , -1.   , -1.   , -1.   , -1.   , -1.   ,\n",
       "       -1.   , -1.   , -1.   , -1.   , -1.   , -1.   , -1.   ,  0.222,\n",
       "        1.   , -0.06 , -1.   , -1.   , -1.   , -1.   , -1.   , -1.   ,\n",
       "       -1.   , -1.   , -1.   , -1.   , -1.   , -1.   , -1.   ,  0.34 ,\n",
       "        1.   , -0.211, -1.   , -1.   , -1.   , -1.   , -1.   , -1.   ,\n",
       "       -1.   , -1.   , -1.   , -1.   , -1.   , -1.   , -1.   ,  0.242,\n",
       "        1.   , -0.113, -1.   , -1.   , -1.   , -1.   , -1.   , -1.   ,\n",
       "       -1.   , -1.   , -1.   , -1.   , -1.   , -1.   , -0.967,  0.594,\n",
       "        1.   , -0.431, -1.   , -1.   , -1.   , -1.   , -1.   , -1.   ,\n",
       "       -1.   , -1.   , -1.   , -1.   , -1.   , -1.   , -0.14 ,  1.   ,\n",
       "        0.989, -0.705, -1.   , -1.   , -1.   , -1.   , -1.   , -1.   ,\n",
       "       -1.   , -1.   , -1.   , -1.   , -1.   , -1.   , -0.654,  0.666,\n",
       "        0.301, -1.   , -1.   , -1.   , -1.   , -1.   , -1.   , -1.   ])"
      ]
     },
     "execution_count": 12,
     "metadata": {},
     "output_type": "execute_result"
    }
   ],
   "source": [
    "train_data[0]"
   ]
  },
  {
   "cell_type": "markdown",
   "metadata": {},
   "source": [
    "**(5 points)** Display two of the digit images, one for digit 1 and one for digit 5. You can use `imshow` function of `matplotlib` library with a suitable colormap. You will first need to reshape 256 pixels to a 16x16 matrix. "
   ]
  },
  {
   "cell_type": "code",
   "execution_count": 9,
   "metadata": {},
   "outputs": [],
   "source": [
    "import matplotlib.pyplot as plt"
   ]
  },
  {
   "cell_type": "code",
   "execution_count": 16,
   "metadata": {},
   "outputs": [],
   "source": [
    "image_one = np.reshape(train_data[0], (16,16))"
   ]
  },
  {
   "cell_type": "code",
   "execution_count": 18,
   "metadata": {},
   "outputs": [
    {
     "data": {
      "text/plain": [
       "<matplotlib.image.AxesImage at 0x11d239910>"
      ]
     },
     "execution_count": 18,
     "metadata": {},
     "output_type": "execute_result"
    },
    {
     "data": {
      "image/png": "[encoded data removed]",
      "text/plain": [
       "<Figure size 432x288 with 1 Axes>"
      ]
     },
     "metadata": {
      "needs_background": "light"
     },
     "output_type": "display_data"
    }
   ],
   "source": [
    "plt.imshow(image_one, cmap='gray')"
   ]
  },
  {
   "cell_type": "code",
   "execution_count": 19,
   "metadata": {},
   "outputs": [],
   "source": [
    "image_five = np.reshape(train_data[1560], (16,16))"
   ]
  },
  {
   "cell_type": "code",
   "execution_count": 20,
   "metadata": {
    "scrolled": true
   },
   "outputs": [
    {
     "data": {
      "text/plain": [
       "<matplotlib.image.AxesImage at 0x11d251e90>"
      ]
     },
     "execution_count": 20,
     "metadata": {},
     "output_type": "execute_result"
    },
    {
     "data": {
      "image/png": "[encoded data removed]",
      "text/plain": [
       "<Figure size 432x288 with 1 Axes>"
      ]
     },
     "metadata": {
      "needs_background": "light"
     },
     "output_type": "display_data"
    }
   ],
   "source": [
    "plt.imshow(image_five, cmap='gray')"
   ]
  },
  {
   "cell_type": "markdown",
   "metadata": {},
   "source": [
    "**(10 points) Implementing Representation 1:** Extract the **symmetry** and **average intensity** features discussed in the class (see logistic regression lecture notes). To compute the intensity features, compute the average pixel value of the image, and for the symmetry feature, compute the negative of the norm of the difference between the image and its y-axis symmetrical. Search numpy's documentation to find the suitable function at each step. You should extract these two features for each image in the training and test sets. As a result, you should obtain a training data matrix of size 1561x2 and test data matrix of size 424x2.\n",
    "\n",
    "Throughout the notebook, we will refer the representation with these two features as **Representation 1** "
   ]
  },
  {
   "cell_type": "code",
   "execution_count": null,
   "metadata": {},
   "outputs": [],
   "source": []
  },
  {
   "cell_type": "markdown",
   "metadata": {},
   "source": [
    "**(5 points)** Provide two scatter plots, one for training and one for test data. The plots should contain the average intensity values in the x-axis and symmetry values in the\n",
    "y-axis. Denote the data points of label 1 with blue marker shaped <font color='blue'>o</font> and the data points of label -1 with a red marker shaped <font color='red'>x</font>. (Hint: check out `plt.scatter` and its `marker` and `color` parameters). Explicitly state the axis labels and figure title for both plots (Hint: `plt.xlabel`, `plt.ylabel`, `plt.title`). "
   ]
  },
  {
   "cell_type": "code",
   "execution_count": null,
   "metadata": {},
   "outputs": [],
   "source": []
  },
  {
   "cell_type": "markdown",
   "metadata": {},
   "source": [
    "**(15 points) Implementing Representation 2:** Come up with an alternative feature extraction approach. The features can again be 2-D, or higher dimensional. If you use any external resource, please cite the references. Explain the feature extraction procedure clearly in your report; if it is an algorithm, provide the algorithm; if it is a function, provide the mathematical expressions. \n",
    "\n",
    "If your proposed features are 2-D or 3-D, provide the scatter plots similar to the previous step.\n",
    "\n",
    "We will refer this representation proposed by you as **Representation 2**."
   ]
  },
  {
   "cell_type": "code",
   "execution_count": null,
   "metadata": {},
   "outputs": [],
   "source": []
  },
  {
   "cell_type": "markdown",
   "metadata": {},
   "source": [
    "## Task 2: Logistic Regression (40 Pts)"
   ]
  },
  {
   "cell_type": "markdown",
   "metadata": {},
   "source": [
    "**(20 points)** Implement the logistic regression classifier from scratch with gradient descent and train it using Representation 1 and Representation 2 as inputs. Concatenate\n",
    "1 to your features for the intercept term, such that one data point will look like for 2-D features [1,$x_1$,$x_2$], and the model vector will be [$w_0, w_1, w_2$], where $w_0$ is the intercept parameter. \n",
    "You can refer to lecture notes (Logistic regression slides 29-30) to review the gradient descent learning algorithm and the logistic loss. To implement the gradient of the logistic loss with respect to $w$, first derive its expression by hand. Please include your derivation in your report.\n",
    "\n",
    "To prove that your implementation is converging, keep the loss values at each gradient descent iteration in a numpy array. After the training is finalized, plot the loss values\n",
    "with respect to iteration count (Hint: `plt.plot`). You should observe a decreasing loss as the number of iterations increases. Also, experiment with 5 different learning rates between 0 and 1, and plot the convergence curves for each learning rate in the same plot to observe the effect of the learning rate (step size) on the convergence. \n",
    "\n",
    "To decide when to terminate the gradient descent iterations, check the absolute difference between the current loss value and the loss value of the previous step. If the difference is less than a small number, such as $10^{-5}$, you can exit the loop."
   ]
  },
  {
   "cell_type": "code",
   "execution_count": 693,
   "metadata": {},
   "outputs": [],
   "source": [
    "X = np.array([[1, 1, 1, 1], [5, 1, 2, 1], [4,1,1,2]], np.int32)\n",
    "y = np.array([[-1,1,1,1]])\n",
    "weights = np.array([1,1,1])"
   ]
  },
  {
   "cell_type": "code",
   "execution_count": 694,
   "metadata": {},
   "outputs": [],
   "source": [
    "def sigmoid(s):\n",
    "    return np.exp(s)/(1+np.exp(s))"
   ]
  },
  {
   "cell_type": "code",
   "execution_count": 695,
   "metadata": {},
   "outputs": [],
   "source": [
    "def loss_function(X, y, weights, lm=0):\n",
    "    return np.mean(np.log(1+np.exp(-1*y*np.dot(np.transpose(weights), X)))) + lm*np.dot(np.transpose(weights), weights)\n",
    "    "
   ]
  },
  {
   "cell_type": "code",
   "execution_count": 745,
   "metadata": {},
   "outputs": [],
   "source": [
    "def derivative(X, y, weights, lm=0):\n",
    "    exp_term = np.exp(-1*y*np.dot(np.transpose(weights), X))\n",
    "    return (np.transpose(X)*np.mean(-y*(exp_term)/(1+exp_term))).mean(0) + lm*2*weights"
   ]
  },
  {
   "cell_type": "code",
   "execution_count": 752,
   "metadata": {
    "scrolled": true
   },
   "outputs": [
    {
     "data": {
      "text/plain": [
       "array([0.77086092, 0.48443708, 0.54172185])"
      ]
     },
     "execution_count": 752,
     "metadata": {},
     "output_type": "execute_result"
    }
   ],
   "source": [
    "-derivative(X,y, weights) + weights"
   ]
  },
  {
   "cell_type": "code",
   "execution_count": 747,
   "metadata": {},
   "outputs": [],
   "source": [
    "def gradient_descent(X, y, weights, learning_rate, lm=0):\n",
    "    losses=[]\n",
    "    diff = 1;\n",
    "    while diff > 0.00001:\n",
    "        print(weights)\n",
    "        loss = loss_function(X,y,weights, lm)\n",
    "        if len(losses) == 0:\n",
    "            diff = loss\n",
    "        else:\n",
    "            diff = np.abs(losses[len(losses)-1]-loss)\n",
    "        losses.append(loss)\n",
    "        gt = derivative(X,y,weights, lm)\n",
    "        vt = -gt\n",
    "        weights = weights + learning_rate*vt\n",
    "        \n",
    "    \n",
    "    return weights, np.array(losses).flatten()\n",
    "    "
   ]
  },
  {
   "cell_type": "code",
   "execution_count": 748,
   "metadata": {
    "scrolled": true
   },
   "outputs": [
    {
     "name": "stdout",
     "output_type": "stream",
     "text": [
      "[1 1 1]\n",
      "[0.97708609 0.94844371 0.95417218]\n",
      "[0.95447842 0.89757645 0.90895684]\n",
      "[0.93221711 0.84748851 0.86443423]\n",
      "[0.91034588 0.79827824 0.82069177]\n",
      "[0.88891185 0.75005167 0.77782371]\n",
      "[0.8679652 0.7029217 0.7359304]\n",
      "[0.84755862 0.6570069  0.69511724]\n",
      "[0.82774663 0.61242993 0.65549327]\n",
      "[0.80858463 0.56931543 0.61716927]\n",
      "[0.79012783 0.52778761 0.58025566]\n",
      "[0.77243   0.4879675 0.54486  ]\n",
      "[0.7555422  0.44996995 0.5110844 ]\n",
      "[0.73951134 0.41390052 0.47902268]\n",
      "[0.72437885 0.37985241 0.4487577 ]\n",
      "[0.7101793  0.34790341 0.42035859]\n",
      "[0.6969391  0.31811298 0.39387821]\n",
      "[0.68467538 0.2905196  0.36935076]\n",
      "[0.67339487 0.26513846 0.34678975]\n",
      "[0.66309323 0.24195977 0.32618646]\n",
      "[0.65375457 0.22094779 0.30750915]\n",
      "[0.64535158 0.20204106 0.29070317]\n",
      "[0.63784616 0.18515387 0.27569233]\n",
      "[0.63119066 0.17017898 0.26238132]\n",
      "[0.62532964 0.15699168 0.25065927]\n",
      "[0.62020199 0.14545448 0.24040399]\n",
      "[0.61574323 0.13542228 0.23148647]\n",
      "[0.61188771 0.12674735 0.22377542]\n",
      "[0.6085706  0.11928385 0.2171412 ]\n",
      "[0.60572955 0.11289148 0.21145909]\n",
      "[0.6033059  0.10743828 0.2066118 ]\n",
      "[0.60124553 0.10280244 0.20249105]\n",
      "[0.59949926 0.09887334 0.19899853]\n",
      "[0.59802308 0.09555193 0.19604616]\n",
      "[0.59677799 0.09275048 0.19355598]\n",
      "[0.59572982 0.0903921  0.19145964]\n",
      "[0.59484886 0.08840992 0.18969771]\n",
      "[0.59410944 0.08674624 0.18821888]\n",
      "[0.59348955 0.08535148 0.1869791 ]\n",
      "[0.59297037 0.08418333 0.18594074]\n",
      "[0.5925359  0.08320577 0.1850718 ]\n",
      "[0.59217257 0.08238828 0.18434513]\n",
      "[0.5918689  0.08170503 0.1837378 ]\n",
      "[0.59161522 0.08113426 0.18323045]\n",
      "[0.5914034  0.08065764 0.18280679]\n",
      "[0.59122657 0.08025979 0.18245315]\n",
      "[0.59107901 0.07992778 0.18215802]\n",
      "[0.5909559  0.07965077 0.1819118 ]\n",
      "[0.5908532  0.07941971 0.18170641]\n",
      "[0.59076756 0.079227   0.18153511]\n",
      "[0.59069613 0.0790663  0.18139227]\n",
      "[0.59063658 0.07893231 0.18127316]\n",
      "[0.59058693 0.0788206  0.18117386]\n",
      "[0.59054554 0.07872747 0.18109108]\n",
      "[0.59051104 0.07864983 0.18102208]\n",
      "[0.59048228 0.07858512 0.18096455]\n",
      "[0.59045831 0.07853119 0.18091661]\n",
      "[0.59043833 0.07848623 0.18087665]\n",
      "[0.59042167 0.07844876 0.18084335]\n",
      "[0.59040779 0.07841754 0.18081559]\n",
      "[0.59039623 0.07839151 0.18079245]\n",
      "[0.59038659 0.07836982 0.18077318]\n",
      "[0.59037855 0.07835175 0.18075711]\n",
      "[0.59037186 0.07833668 0.18074372]\n",
      "[0.59036628 0.07832413 0.18073256]\n",
      "[0.59036163 0.07831367 0.18072326]\n",
      "[0.59035776 0.07830495 0.18071551]\n",
      "[0.59035453 0.07829768 0.18070905]\n"
     ]
    }
   ],
   "source": [
    "w, losses = gradient_descent(X, y, weights, 0.1)"
   ]
  },
  {
   "cell_type": "code",
   "execution_count": 749,
   "metadata": {
    "scrolled": false
   },
   "outputs": [
    {
     "data": {
      "image/png": "[encoded data removed]",
      "text/plain": [
       "<Figure size 432x288 with 1 Axes>"
      ]
     },
     "metadata": {
      "needs_background": "light"
     },
     "output_type": "display_data"
    }
   ],
   "source": [
    "plt.plot(losses)\n",
    "plt.xlabel(\"n iteration\")\n",
    "plt.ylabel(\"loss value\")\n",
    "plt.show()"
   ]
  },
  {
   "cell_type": "code",
   "execution_count": 753,
   "metadata": {
    "scrolled": true
   },
   "outputs": [
    {
     "data": {
      "text/plain": [
       "array([0.84613778, 0.70043017, 0.716596  , 0.73692575])"
      ]
     },
     "execution_count": 753,
     "metadata": {},
     "output_type": "execute_result"
    }
   ],
   "source": [
    "sigmoid(np.dot(np.transpose(w), X))"
   ]
  },
  {
   "cell_type": "markdown",
   "metadata": {},
   "source": [
    "**(10 points)** Implement logistic regression with $\\ell_2$ norm regularization, $||\\mathbf{w}||_{2}^{2}$ . Show that your implementation is working by visualizing the loss over the iterations again. Visualization for a single learning rate and $\\lambda$ suffices. "
   ]
  },
  {
   "cell_type": "code",
   "execution_count": 755,
   "metadata": {},
   "outputs": [
    {
     "name": "stdout",
     "output_type": "stream",
     "text": [
      "[1 1 1]\n",
      "[0.99670861 0.99384437 0.99441722]\n",
      "[0.99342409 0.98770295 0.98884718]\n",
      "[0.99014649 0.98157585 0.98328998]\n",
      "[0.98687585 0.97546317 0.97774571]\n",
      "[0.98361223 0.96936503 0.97221447]\n",
      "[0.98035566 0.96328152 0.96669635]\n",
      "[0.97710621 0.95721277 0.96119146]\n",
      "[0.97386391 0.95115888 0.95569989]\n",
      "[0.97062883 0.94511996 0.95022174]\n",
      "[0.967401   0.93909614 0.94475711]\n",
      "[0.96418047 0.93308752 0.93930611]\n",
      "[0.96096731 0.92709422 0.93386884]\n",
      "[0.95776156 0.92111636 0.9284454 ]\n",
      "[0.95456327 0.91515405 0.9230359 ]\n",
      "[0.95137249 0.90920743 0.91764044]\n",
      "[0.94818929 0.90327659 0.91225913]\n",
      "[0.9450137  0.89736167 0.90689208]\n",
      "[0.94184579 0.89146279 0.90153939]\n",
      "[0.93868561 0.88558008 0.89620118]\n",
      "[0.93553321 0.87971365 0.89087756]\n",
      "[0.93238866 0.87386363 0.88556864]\n",
      "[0.92925199 0.86803015 0.88027452]\n",
      "[0.92612328 0.86221334 0.87499533]\n",
      "[0.92300258 0.85641332 0.86973117]\n",
      "[0.91988994 0.85063022 0.86448217]\n",
      "[0.91678542 0.84486418 0.85924843]\n",
      "[0.91368908 0.83911532 0.85403007]\n",
      "[0.91060098 0.83338377 0.84882721]\n",
      "[0.90752117 0.82766967 0.84363997]\n",
      "[0.90444972 0.82197316 0.83846847]\n",
      "[0.90138668 0.81629435 0.83331282]\n",
      "[0.89833211 0.8106334  0.82817314]\n",
      "[0.89528607 0.80499043 0.82304956]\n",
      "[0.89224863 0.79936559 0.81794219]\n",
      "[0.88921984 0.793759   0.81285116]\n",
      "[0.88619976 0.7881708  0.8077766 ]\n",
      "[0.88318845 0.78260115 0.80271861]\n",
      "[0.88018598 0.77705016 0.79767732]\n",
      "[0.87719241 0.77151799 0.79265287]\n",
      "[0.87420779 0.76600476 0.78764537]\n",
      "[0.87123219 0.76051063 0.78265495]\n",
      "[0.86826568 0.75503574 0.77768173]\n",
      "[0.86530831 0.74958022 0.77272583]\n",
      "[0.86236014 0.74414421 0.76778739]\n",
      "[0.85942125 0.73872786 0.76286654]\n",
      "[0.85649168 0.73333131 0.75796338]\n",
      "[0.85357151 0.7279547  0.75307806]\n",
      "[0.8506608  0.72259818 0.7482107 ]\n",
      "[0.84775961 0.71726188 0.74336143]\n",
      "[0.844868   0.71194596 0.73853037]\n",
      "[0.84198604 0.70665055 0.73371765]\n",
      "[0.83911378 0.7013758  0.7289234 ]\n",
      "[0.8362513  0.69612185 0.72414774]\n",
      "[0.83339866 0.69088885 0.71939081]\n",
      "[0.83055592 0.68567693 0.71465273]\n",
      "[0.82772314 0.68048625 0.70993363]\n",
      "[0.82490038 0.67531694 0.70523363]\n",
      "[0.82208771 0.67016915 0.70055286]\n",
      "[0.8192852  0.66504302 0.69589145]\n",
      "[0.8164929  0.65993869 0.69124953]\n",
      "[0.81371087 0.65485631 0.68662722]\n",
      "[0.81093919 0.64979601 0.68202465]\n",
      "[0.80817791 0.64475794 0.67744194]\n",
      "[0.80542709 0.63974225 0.67287921]\n",
      "[0.8026868  0.63474906 0.66833661]\n",
      "[0.79995709 0.62977852 0.66381424]\n",
      "[0.79723804 0.62483077 0.65931223]\n",
      "[0.7945297  0.61990596 0.6548307 ]\n",
      "[0.79183212 0.6150042  0.65036979]\n",
      "[0.78914538 0.61012566 0.6459296 ]\n",
      "[0.78646953 0.60527045 0.64151027]\n",
      "[0.78380464 0.60043872 0.6371119 ]\n",
      "[0.78115075 0.5956306  0.63273463]\n",
      "[0.77850794 0.59084622 0.62837857]\n",
      "[0.77587625 0.58608573 0.62404383]\n",
      "[0.77325575 0.58134924 0.61973055]\n",
      "[0.7706465  0.5766369  0.61543882]\n",
      "[0.76804855 0.57194882 0.61116877]\n",
      "[0.76546196 0.56728515 0.60692051]\n",
      "[0.76288678 0.562646   0.60269416]\n",
      "[0.76032307 0.55803151 0.59848982]\n",
      "[0.75777089 0.55344179 0.59430761]\n",
      "[0.75523028 0.54887697 0.59014764]\n",
      "[0.75270131 0.54433718 0.58601001]\n",
      "[0.75018403 0.53982253 0.58189483]\n",
      "[0.74767848 0.53533314 0.57780221]\n",
      "[0.74518472 0.53086914 0.57373225]\n",
      "[0.74270281 0.52643062 0.56968506]\n",
      "[0.74023279 0.52201772 0.56566073]\n",
      "[0.7377747  0.51763054 0.56165937]\n",
      "[0.73532861 0.51326919 0.55768107]\n",
      "[0.73289455 0.50893378 0.55372594]\n",
      "[0.73047258 0.50462443 0.54979406]\n",
      "[0.72806274 0.50034122 0.54588552]\n",
      "[0.72566507 0.49608427 0.54200043]\n",
      "[0.72327962 0.49185368 0.53813887]\n",
      "[0.72090644 0.48764954 0.53430092]\n",
      "[0.71854557 0.48347196 0.53048668]\n",
      "[0.71619704 0.47932103 0.52669623]\n",
      "[0.7138609  0.47519683 0.52292965]\n",
      "[0.71153718 0.47109947 0.51918701]\n",
      "[0.70922594 0.46702903 0.51546841]\n",
      "[0.7069272  0.46298559 0.51177392]\n",
      "[0.704641   0.45896925 0.5081036 ]\n",
      "[0.70236738 0.45498007 0.50445753]\n",
      "[0.70010637 0.45101814 0.50083579]\n",
      "[0.697858   0.44708354 0.49723844]\n",
      "[0.69562231 0.44317634 0.49366554]\n",
      "[0.69339933 0.43929661 0.49011715]\n",
      "[0.69118909 0.43544442 0.48659335]\n",
      "[0.68899162 0.43161983 0.48309419]\n",
      "[0.68680694 0.42782291 0.47961972]\n",
      "[0.68463508 0.42405373 0.47617   ]\n",
      "[0.68247607 0.42031233 0.47274507]\n",
      "[0.68032993 0.41659877 0.469345  ]\n",
      "[0.67819668 0.41291311 0.46596982]\n",
      "[0.67607635 0.40925539 0.46261959]\n",
      "[0.67396896 0.40562567 0.45929433]\n",
      "[0.67187452 0.40202399 0.45599409]\n",
      "[0.66979305 0.39845038 0.45271891]\n",
      "[0.66772457 0.39490489 0.44946883]\n",
      "[0.6656691  0.39138755 0.44624386]\n",
      "[0.66362664 0.38789839 0.44304404]\n",
      "[0.66159722 0.38443745 0.4398694 ]\n",
      "[0.65958084 0.38100475 0.43671996]\n",
      "[0.65757751 0.37760031 0.43359575]\n",
      "[0.65558724 0.37422415 0.43049677]\n",
      "[0.65361004 0.37087629 0.42742304]\n",
      "[0.65164591 0.36755674 0.42437458]\n",
      "[0.64969485 0.36426552 0.42135139]\n",
      "[0.64775688 0.36100263 0.41835348]\n",
      "[0.64583199 0.35776808 0.41538086]\n",
      "[0.64392018 0.35456187 0.41243353]\n",
      "[0.64202146 0.35138399 0.40951148]\n",
      "[0.64013581 0.34823444 0.40661471]\n",
      "[0.63826323 0.34511321 0.40374322]\n",
      "[0.63640372 0.3420203  0.40089698]\n",
      "[0.63455727 0.33895568 0.39807599]\n",
      "[0.63272387 0.33591933 0.39528024]\n",
      "[0.63090352 0.33291124 0.3925097 ]\n",
      "[0.62909619 0.32993138 0.38976434]\n",
      "[0.62730189 0.32697973 0.38704416]\n",
      "[0.62552058 0.32405624 0.38434911]\n",
      "[0.62375226 0.32116089 0.38167916]\n",
      "[0.62199692 0.31829364 0.37903429]\n",
      "[0.62025452 0.31545444 0.37641445]\n",
      "[0.61852505 0.31264325 0.37381961]\n",
      "[0.61680849 0.30986003 0.37124972]\n",
      "[0.61510481 0.30710472 0.36870474]\n",
      "[0.613414   0.30437727 0.36618462]\n",
      "[0.61173602 0.30167762 0.3636893 ]\n",
      "[0.61007084 0.2990057  0.36121873]\n",
      "[0.60841845 0.29636146 0.35877286]\n",
      "[0.60677879 0.29374482 0.35635162]\n",
      "[0.60515186 0.29115572 0.35395495]\n",
      "[0.6035376  0.28859408 0.35158278]\n",
      "[0.60193599 0.28605982 0.34923505]\n",
      "[0.60034699 0.28355286 0.34691168]\n",
      "[0.59877055 0.28107312 0.34461261]\n",
      "[0.59720666 0.27862051 0.34233774]\n",
      "[0.59565525 0.27619494 0.340087  ]\n",
      "[0.59411629 0.27379631 0.33786031]\n",
      "[0.59258974 0.27142453 0.33565757]\n",
      "[0.59107555 0.26907951 0.33347872]\n",
      "[0.58957367 0.26676113 0.33132364]\n",
      "[0.58808407 0.26446929 0.32919225]\n",
      "[0.58660668 0.26220388 0.32708444]\n",
      "[0.58514146 0.2599648  0.32500013]\n",
      "[0.58368835 0.25775192 0.32293921]\n",
      "[0.58224731 0.25556513 0.32090157]\n",
      "[0.58081829 0.25340431 0.3188871 ]\n",
      "[0.57940121 0.25126933 0.31689571]\n",
      "[0.57799604 0.24916007 0.31492726]\n",
      "[0.5766027  0.2470764  0.31298166]\n",
      "[0.57522115 0.24501819 0.31105879]\n",
      "[0.57385133 0.24298531 0.30915851]\n",
      "[0.57249316 0.24097761 0.30728072]\n",
      "[0.57114659 0.23899496 0.30542529]\n",
      "[0.56981156 0.23703722 0.30359209]\n",
      "[0.56848799 0.23510425 0.30178099]\n",
      "[0.56717584 0.23319589 0.29999188]\n",
      "[0.56587502 0.23131199 0.2982246 ]\n",
      "[0.56458547 0.22945242 0.29647903]\n",
      "[0.56330712 0.22761701 0.29475503]\n",
      "[0.56203991 0.22580561 0.29305247]\n",
      "[0.56078376 0.22401806 0.2913712 ]\n",
      "[0.55953861 0.2222542  0.28971108]\n",
      "[0.55830437 0.22051387 0.28807197]\n",
      "[0.55708098 0.21879691 0.28645372]\n",
      "[0.55586836 0.21710315 0.28485619]\n",
      "[0.55466643 0.21543242 0.28327922]\n",
      "[0.55347513 0.21378456 0.28172268]\n",
      "[0.55229438 0.2121594  0.28018639]\n",
      "[0.55112409 0.21055676 0.27867022]\n",
      "[0.5499642  0.20897647 0.27717401]\n",
      "[0.54881462 0.20741835 0.2756976 ]\n",
      "[0.54767527 0.20588224 0.27424084]\n",
      "[0.54654608 0.20436794 0.27280357]\n",
      "[0.54542696 0.20287529 0.27138562]\n",
      "[0.54431784 0.20140409 0.26998684]\n",
      "[0.54321863 0.19995418 0.26860707]\n",
      "[0.54212925 0.19852537 0.26724615]\n",
      "[0.54104962 0.19711747 0.2659039 ]\n",
      "[0.53997966 0.1957303  0.26458018]\n",
      "[0.53891928 0.19436368 0.2632748 ]\n",
      "[0.53786841 0.19301742 0.26198762]\n",
      "[0.53682695 0.19169133 0.26071846]\n",
      "[0.53579483 0.19038523 0.25946715]\n",
      "[0.53477196 0.18909892 0.25823353]\n",
      "[0.53375826 0.18783222 0.25701743]\n",
      "[0.53275363 0.18658495 0.25581869]\n",
      "[0.53175801 0.1853569  0.25463712]\n",
      "[0.5307713  0.1841479  0.25347258]\n",
      "[0.52979341 0.18295775 0.25232488]\n",
      "[0.52882427 0.18178626 0.25119386]\n",
      "[0.52786379 0.18063324 0.25007935]\n",
      "[0.52691188 0.1794985  0.24898117]\n",
      "[0.52596845 0.17838185 0.24789917]\n",
      "[0.52503343 0.1772831  0.24683317]\n",
      "[0.52410673 0.17620206 0.24578299]\n",
      "[0.52318826 0.17513854 0.24474848]\n",
      "[0.52227794 0.17409235 0.24372946]\n",
      "[0.52137568 0.1730633  0.24272577]\n",
      "[0.5204814  0.17205119 0.24173723]\n",
      "[0.51959501 0.17105585 0.24076368]\n",
      "[0.51871643 0.17007708 0.23980495]\n",
      "[0.51784558 0.1691147  0.23886088]\n",
      "[0.51698236 0.16816851 0.23793128]\n",
      "[0.51612671 0.16723833 0.23701601]\n",
      "[0.51527853 0.16632398 0.23611489]\n",
      "[0.51443774 0.16542526 0.23522775]\n",
      "[0.51360426 0.16454199 0.23435444]\n",
      "[0.51277801 0.16367398 0.23349479]\n",
      "[0.5119589  0.16282107 0.23264863]\n",
      "[0.51114685 0.16198305 0.23181581]\n",
      "[0.51034179 0.16115974 0.23099615]\n",
      "[0.50954362 0.16035098 0.23018951]\n",
      "[0.50875227 0.15955657 0.22939571]\n",
      "[0.50796767 0.15877634 0.2286146 ]\n",
      "[0.50718972 0.15801011 0.22784603]\n",
      "[0.50641835 0.15725769 0.22708983]\n",
      "[0.50565348 0.15651893 0.22634584]\n",
      "[0.50489504 0.15579363 0.22561391]\n",
      "[0.50414294 0.15508163 0.22489389]\n",
      "[0.50339711 0.15438275 0.22418562]\n",
      "[0.50265747 0.15369683 0.22348896]\n",
      "[0.50192395 0.15302368 0.22280373]\n",
      "[0.50119646 0.15236315 0.22212981]\n",
      "[0.50047494 0.15171506 0.22146703]\n",
      "[0.49975931 0.15107924 0.22081526]\n",
      "[0.4990495  0.15045554 0.22017433]\n",
      "[0.49834543 0.14984378 0.21954411]\n",
      "[0.49764703 0.14924381 0.21892445]\n",
      "[0.49695422 0.14865546 0.21831521]\n",
      "[0.49626694 0.14807857 0.21771624]\n",
      "[0.49558512 0.14751299 0.21712741]\n",
      "[0.49490867 0.14695855 0.21654857]\n",
      "[0.49423755 0.1464151  0.21597959]\n",
      "[0.49357167 0.14588249 0.21542032]\n",
      "[0.49291096 0.14536056 0.21487064]\n",
      "[0.49225537 0.14484916 0.2143304 ]\n",
      "[0.49160482 0.14434814 0.21379948]\n",
      "[0.49095924 0.14385736 0.21327773]\n",
      "[0.49031857 0.14337665 0.21276504]\n",
      "[0.48968275 0.14290589 0.21226126]\n",
      "[0.4890517  0.14244492 0.21176628]\n",
      "[0.48842538 0.1419936  0.21127996]\n",
      "[0.4878037  0.1415518  0.21080218]\n",
      "[0.48718661 0.14111936 0.21033281]\n",
      "[0.48657406 0.14069615 0.20987173]\n",
      "[0.48596596 0.14028204 0.20941883]\n",
      "[0.48536228 0.13987689 0.20897397]\n",
      "[0.48476294 0.13948057 0.20853704]\n",
      "[0.48416789 0.13909293 0.20810792]\n",
      "[0.48357706 0.13871386 0.2076865 ]\n",
      "[0.48299041 0.13834322 0.20727266]\n",
      "[0.48240786 0.13798089 0.20686629]\n",
      "[0.48182938 0.13762674 0.20646726]\n",
      "[0.48125489 0.13728063 0.20607549]\n",
      "[0.48068435 0.13694246 0.20569084]\n",
      "[0.48011771 0.1366121  0.20531322]\n",
      "[0.47955489 0.13628942 0.20494252]\n",
      "[0.47899586 0.13597432 0.20457862]\n",
      "[0.47844056 0.13566666 0.20422144]\n",
      "[0.47788894 0.13536634 0.20387086]\n",
      "[0.47734095 0.13507323 0.20352678]\n",
      "[0.47679653 0.13478724 0.2031891 ]\n",
      "[0.47625564 0.13450824 0.20285772]\n",
      "[0.47571823 0.13423612 0.20253254]\n",
      "[0.47518424 0.13397078 0.20221348]\n",
      "[0.47465363 0.13371211 0.20190042]\n",
      "[0.47412636 0.13346    0.20159328]\n",
      "[0.47360237 0.13321435 0.20129196]\n",
      "[0.47308162 0.13297506 0.20099637]\n",
      "[0.47256406 0.13274201 0.20070642]\n",
      "[0.47204965 0.13251512 0.20042203]\n",
      "[0.47153835 0.13229428 0.20014309]\n",
      "[0.4710301  0.13207939 0.19986954]\n",
      "[0.47052487 0.13187037 0.19960127]\n",
      "[0.47002262 0.1316671  0.19933821]\n",
      "[0.46952329 0.13146951 0.19908026]\n",
      "[0.46902686 0.13127749 0.19882736]\n",
      "[0.46853328 0.13109096 0.19857942]\n",
      "[0.4680425  0.13090982 0.19833635]\n",
      "[0.46755449 0.13073399 0.19809809]\n",
      "[0.46706921 0.13056337 0.19786454]\n",
      "[0.46658663 0.13039789 0.19763564]\n",
      "[0.46610669 0.13023746 0.19741131]\n",
      "[0.46562937 0.13008199 0.19719147]\n",
      "[0.46515463 0.12993141 0.19697605]\n",
      "[0.46468243 0.12978562 0.19676498]\n",
      "[0.46421273 0.12964456 0.19655819]\n",
      "[0.46374551 0.12950813 0.19635561]\n",
      "[0.46328071 0.12937627 0.19615716]\n",
      "[0.46281832 0.1292489  0.19596278]\n",
      "[0.4623583  0.12912593 0.19577241]\n",
      "[0.46190061 0.1290073  0.19558597]\n",
      "[0.46144521 0.12889294 0.1954034 ]\n",
      "[0.46099209 0.12878277 0.19522463]\n",
      "[0.4605412  0.12867671 0.19504961]\n",
      "[0.46009251 0.12857471 0.19487827]\n",
      "[0.459646   0.12847669 0.19471055]\n",
      "[0.45920163 0.12838258 0.19454639]\n",
      "[0.45875937 0.12829231 0.19438572]\n",
      "[0.45831919 0.12820583 0.1942285 ]\n",
      "[0.45788106 0.12812306 0.19407466]\n",
      "[0.45744496 0.12804394 0.19392415]\n",
      "[0.45701086 0.12796841 0.1937769 ]\n",
      "[0.45657872 0.12789641 0.19363287]\n",
      "[0.45614852 0.12782788 0.19349201]\n",
      "[0.45572024 0.12776274 0.19335424]\n",
      "[0.45529384 0.12770096 0.19321954]\n",
      "[0.45486931 0.12764246 0.19308783]\n",
      "[0.45444661 0.1275872  0.19295908]\n",
      "[0.45402571 0.12753511 0.19283323]\n",
      "[0.4536066  0.12748613 0.19271023]\n",
      "[0.45318925 0.12744023 0.19259003]\n",
      "[0.45277364 0.12739733 0.19247259]\n",
      "[0.45235974 0.12735739 0.19235786]\n",
      "[0.45194752 0.12732036 0.1922458 ]\n",
      "[0.45153697 0.12728619 0.19213634]\n",
      "[0.45112807 0.12725482 0.19202947]\n",
      "[0.45072078 0.1272262  0.19192511]\n",
      "[0.45031508 0.12720029 0.19182325]\n",
      "[0.44991097 0.12717704 0.19172382]\n",
      "[0.44950841 0.1271564  0.1916268 ]\n",
      "[0.44910738 0.12713832 0.19153213]\n",
      "[0.44870786 0.12712276 0.19143978]\n",
      "[0.44830984 0.12710968 0.19134971]\n",
      "[0.44791329 0.12709903 0.19126188]\n",
      "[0.44751819 0.12709076 0.19117625]\n",
      "[0.44712453 0.12708484 0.19109278]\n",
      "[0.44673227 0.12708122 0.19101143]\n",
      "[0.44634142 0.12707986 0.19093217]\n",
      "[0.44595194 0.12708072 0.19085496]\n",
      "[0.44556382 0.12708376 0.19077977]\n",
      "[0.44517704 0.12708894 0.19070656]\n",
      "[0.44479158 0.12709622 0.19063529]\n",
      "[0.44440743 0.12710556 0.19056594]\n",
      "[0.44402457 0.12711693 0.19049846]\n",
      "[0.44364298 0.12713029 0.19043283]\n",
      "[0.44326264 0.1271456  0.19036901]\n",
      "[0.44288354 0.12716283 0.19030698]\n",
      "[0.44250567 0.12718195 0.19024669]\n",
      "[0.44212901 0.12720291 0.19018813]\n",
      "[0.44175353 0.12722568 0.19013125]\n",
      "[0.44137924 0.12725023 0.19007603]\n",
      "[0.4410061  0.12727654 0.19002245]\n",
      "[0.44063412 0.12730455 0.18997047]\n",
      "[0.44026326 0.12733425 0.18992006]\n",
      "[0.43989353 0.12736561 0.18987119]\n",
      "[0.4395249  0.12739859 0.18982385]\n",
      "[0.43915736 0.12743316 0.189778  ]\n",
      "[0.4387909  0.12746929 0.18973361]\n",
      "[0.4384255  0.12750696 0.18969066]\n"
     ]
    },
    {
     "data": {
      "image/png": "[encoded data removed]",
      "text/plain": [
       "<Figure size 432x288 with 1 Axes>"
      ]
     },
     "metadata": {
      "needs_background": "light"
     },
     "output_type": "display_data"
    }
   ],
   "source": [
    "\n",
    "w2, losses2 = gradient_descent(X, y, weights, 0.01, 0.05)\n",
    "\n",
    "plt.plot(losses2)\n",
    "plt.xlabel(\"n iteration\")\n",
    "plt.ylabel(\"loss value\")\n",
    "plt.show()"
   ]
  },
  {
   "cell_type": "markdown",
   "metadata": {},
   "source": [
    "**(10 points)** Implement a 5-fold cross validation procedure to find the optimal $\\lambda$ value for both Representation 1 and 2. Experiment with at least three different $\\lambda$ values between 0 and 1. Report the mean/std of cross validation accuracy of every representation/parameter combination as a table and clearly mark the best configuration in your report. "
   ]
  },
  {
   "cell_type": "code",
   "execution_count": 756,
   "metadata": {},
   "outputs": [
    {
     "data": {
      "text/plain": [
       "array([0.86228367, 0.68032297, 0.70740264, 0.72008949])"
      ]
     },
     "execution_count": 756,
     "metadata": {},
     "output_type": "execute_result"
    }
   ],
   "source": [
    "sigmoid(np.dot(np.transpose(w2), X))"
   ]
  },
  {
   "cell_type": "code",
   "execution_count": null,
   "metadata": {},
   "outputs": [],
   "source": [
    "def n_fol_cross_validation(X, y, weights, learning_rate, lm, n):    \n",
    "    accuracies = []\n",
    "    for i in range(n):\n",
    "        \n",
    "        X_train = X[0:i] + X[i+1:]\n",
    "        y_train = y[0:i] + y[i+1:]\n",
    "        \n",
    "        X_test = X[i:i+1]\n",
    "        y_test = y[i:i+1]\n",
    "        \n",
    "        new_weights, losses = gradient_descent(X, y, weights, learning_rate, lm)\n",
    "        \n",
    "        \n",
    "    \n",
    "    \n",
    "\n",
    "\n",
    "\n"
   ]
  },
  {
   "cell_type": "markdown",
   "metadata": {},
   "source": [
    "## Task 3: Evaluation (25 Pts)"
   ]
  },
  {
   "cell_type": "markdown",
   "metadata": {},
   "source": [
    "**(5 points)** Train the logistic regression classifier on Representation 1 and 2 with the best learning rate you decide. Similarly, train the regularized logistic regression classifier with the best $\\lambda$ you obtained by 5-fold cross validation. Report the training and test classification accuracy as \n",
    "\\begin{align*}\n",
    "\\frac{\\text{number of correctly classified samples}}{\\text{total number of samples}}x100\n",
    "\\end{align*}"
   ]
  },
  {
   "cell_type": "code",
   "execution_count": null,
   "metadata": {},
   "outputs": [],
   "source": []
  },
  {
   "cell_type": "markdown",
   "metadata": {},
   "source": [
    "**(15 points)** Visualize the decision boundary (the line that is given by $\\mathbf{w}^{T}x=0$) obtained from the logistic regression classifier learned without regularization. For this purpose, use only Representation 1. Provide two scatter plots for training and test data points with the decision boundary shown on each of the plots."
   ]
  },
  {
   "cell_type": "code",
   "execution_count": null,
   "metadata": {},
   "outputs": [],
   "source": []
  },
  {
   "cell_type": "markdown",
   "metadata": {},
   "source": [
    "**(5 points)** Comment on your work in your report. Include the answers for the following questions in your discussion. \n",
    "\n",
    "* Did regularization improve the generalization performance (did it help reducing the gap between training and test accuracies/errors)? Did you observe any difference between using Representation 1 and 2?\n",
    "* Which feature set did give the best results? Which one is more discriminative?\n",
    "* What would be your next step to improve test accuracy? "
   ]
  }
 ],
 "metadata": {
  "kernelspec": {
   "display_name": "Python 3",
   "language": "python",
   "name": "python3"
  },
  "language_info": {
   "codemirror_mode": {
    "name": "ipython",
    "version": 3
   },
   "file_extension": ".py",
   "mimetype": "text/x-python",
   "name": "python",
   "nbconvert_exporter": "python",
   "pygments_lexer": "ipython3",
   "version": "3.7.4"
  }
 },
 "nbformat": 4,
 "nbformat_minor": 2
}
