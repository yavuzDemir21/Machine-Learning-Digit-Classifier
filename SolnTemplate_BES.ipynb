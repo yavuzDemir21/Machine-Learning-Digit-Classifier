{
 "cells": [
  {
   "cell_type": "markdown",
   "metadata": {},
   "source": [
    "<h1><center>CMPE 462 - Project 1<br>Binary Classification with Logistic Regression<br>Due: April 23, 2020, 23:59</center></h1>"
   ]
  },
  {
   "cell_type": "markdown",
   "metadata": {},
   "source": [
    "* **Student ID1:**\n",
    "* **Student ID2:**\n",
    "* **Student ID3:**"
   ]
  },
  {
   "cell_type": "markdown",
   "metadata": {},
   "source": [
    "# Overview\n",
    "\n",
    "In this project, you are going to implement logistic regression from scratch. You are provided\n",
    "a subset of the famous handwritten digit dataset called MNIST. In the subset, you will find images of digit 1 and 5. Therefore, you will be solving a binary classification problem. The project includes feature extraction, model training, and evaluation steps.\n",
    "\n",
    "First, you will load and visualize the data portion we have provided to you and then extract two different set of features to build a classifier on. When you extracted the desired features, you will run your logistic regression implementation with gradient descent on the representations to classify digits into 1 and 5. You will experiment with different learning rates  and regularization parameter ($\\lambda$) and find the optimal $\\lambda$ with 5-fold cross validation. Finally, you will evaluate the implemented models, decide which is the best performing one and visualize a decision boundary.\n",
    "\n",
    "Follow the steps on this notebook that would guide you through the solution step-by-step. Make sure that the notebook reports your work properly and add comments and opinions when necessary."
   ]
  },
  {
   "cell_type": "markdown",
   "metadata": {},
   "source": [
    "**IMPORTANT NOTE:** You are allowed to use third-party libraries such as `numpy` and `matplotlib` to help you implement necessary procedures. However, you should not import any function that accomplishes the task itself. For instance, you can use `numpy` arrays for matrix operations, but you cannot use `scikit-learn` to implement cross validation."
   ]
  },
  {
   "cell_type": "markdown",
   "metadata": {},
   "source": [
    "## Task 1: Feature Extraction (35 Pts)"
   ]
  },
  {
   "cell_type": "markdown",
   "metadata": {},
   "source": [
    "Load the training/test data and labels as numpy arrays (Hint:`np.load`). Train and test data are 1561x256 and 424x256 dimensional matrices, respectively. Each row in the\n",
    "aforementioned matrices corresponds to an image of a digit. The 256 pixels correspond to a 16x16 image. Label 1 is assigned to digit 1 and label -1 is assigned to digit 5."
   ]
  },
  {
   "cell_type": "code",
   "execution_count": 1,
   "metadata": {},
   "outputs": [],
   "source": [
    "import sys"
   ]
  },
  {
   "cell_type": "code",
   "execution_count": 2,
   "metadata": {},
   "outputs": [
    {
     "name": "stdout",
     "output_type": "stream",
     "text": [
      "/usr/local/anaconda3/bin/python\n"
     ]
    }
   ],
   "source": [
    "print(sys.executable)"
   ]
  },
  {
   "cell_type": "code",
   "execution_count": 3,
   "metadata": {},
   "outputs": [],
   "source": [
    "import numpy as np"
   ]
  },
  {
   "cell_type": "code",
   "execution_count": 4,
   "metadata": {},
   "outputs": [],
   "source": [
    "import matplotlib.pyplot as plt"
   ]
  },
  {
   "cell_type": "markdown",
   "metadata": {},
   "source": [
    "**(5 points)** Display two of the digit images, one for digit 1 and one for digit 5. You can use `imshow` function of `matplotlib` library with a suitable colormap. You will first need to reshape 256 pixels to a 16x16 matrix. "
   ]
  },
  {
   "cell_type": "code",
   "execution_count": 5,
   "metadata": {},
   "outputs": [],
   "source": [
    "train_data=np.load(\"./data/train_data.npy\")"
   ]
  },
  {
   "cell_type": "code",
   "execution_count": 6,
   "metadata": {},
   "outputs": [],
   "source": [
    "train_labels=np.load(\"./data/train_labels.npy\")"
   ]
  },
  {
   "cell_type": "code",
   "execution_count": 7,
   "metadata": {},
   "outputs": [],
   "source": [
    "test_data=np.load(\"./data/test_data.npy\")"
   ]
  },
  {
   "cell_type": "code",
   "execution_count": 8,
   "metadata": {},
   "outputs": [],
   "source": [
    "test_labels=np.load(\"./data/test_labels.npy\")"
   ]
  },
  {
   "cell_type": "code",
   "execution_count": 9,
   "metadata": {},
   "outputs": [],
   "source": [
    "image_one=np.reshape(train_data[0], (16,16))"
   ]
  },
  {
   "cell_type": "code",
   "execution_count": 10,
   "metadata": {},
   "outputs": [],
   "source": [
    "image_five= np.reshape(train_data[1560], (16,16))"
   ]
  },
  {
   "cell_type": "code",
   "execution_count": 11,
   "metadata": {},
   "outputs": [
    {
     "data": {
      "text/plain": [
       "<matplotlib.image.AxesImage at 0x11296d190>"
      ]
     },
     "execution_count": 11,
     "metadata": {},
     "output_type": "execute_result"
    },
    {
     "data": {
      "image/png": "[encoded data removed]",
      "text/plain": [
       "<Figure size 432x288 with 1 Axes>"
      ]
     },
     "metadata": {
      "needs_background": "light"
     },
     "output_type": "display_data"
    }
   ],
   "source": [
    "plt.imshow(image_one, cmap='gray')"
   ]
  },
  {
   "cell_type": "code",
   "execution_count": 12,
   "metadata": {},
   "outputs": [
    {
     "data": {
      "text/plain": [
       "<matplotlib.image.AxesImage at 0x113d0e4d0>"
      ]
     },
     "execution_count": 12,
     "metadata": {},
     "output_type": "execute_result"
    },
    {
     "data": {
      "image/png": "[encoded data removed]",
      "text/plain": [
       "<Figure size 432x288 with 1 Axes>"
      ]
     },
     "metadata": {
      "needs_background": "light"
     },
     "output_type": "display_data"
    }
   ],
   "source": [
    "plt.imshow(image_five, cmap='gray')"
   ]
  },
  {
   "cell_type": "markdown",
   "metadata": {},
   "source": [
    "**(10 points) Implementing Representation 1:** Extract the **symmetry** and **average intensity** features discussed in the class (see logistic regression lecture notes). To compute the intensity features, compute the average pixel value of the image, and for the symmetry feature, compute the negative of the norm of the difference between the image and its y-axis symmetrical. Search numpy's documentation to find the suitable function at each step. You should extract these two features for each image in the training and test sets. As a result, you should obtain a training data matrix of size 1561x2 and test data matrix of size 424x2.\n",
    "\n",
    "Throughout the notebook, we will refer the representation with these two features as **Representation 1** "
   ]
  },
  {
   "cell_type": "code",
   "execution_count": 29,
   "metadata": {},
   "outputs": [],
   "source": [
    "def norm_of_dif_y_sym( matrix ):\n",
    "   return -np.linalg.norm(np.reshape(matrix, (16,16))-np.fliplr(np.reshape(matrix, (16,16))))"
   ]
  },
  {
   "cell_type": "code",
   "execution_count": 30,
   "metadata": {},
   "outputs": [],
   "source": [
    "symmetry_diff_train_data=np.apply_along_axis(norm_of_dif_y_sym, 1, train_data)"
   ]
  },
  {
   "cell_type": "code",
   "execution_count": 31,
   "metadata": {},
   "outputs": [],
   "source": [
    "symmetry_diff_test_data=np.apply_along_axis(norm_of_dif_y_sym, 1, test_data)"
   ]
  },
  {
   "cell_type": "code",
   "execution_count": 32,
   "metadata": {},
   "outputs": [
    {
     "name": "stdout",
     "output_type": "stream",
     "text": [
      "[ -4.26869254  -6.3343369   -2.5674501  ... -15.89804705 -14.42664382\n",
      " -14.1567059 ]\n"
     ]
    }
   ],
   "source": [
    "print(symmetry_diff_train_data)"
   ]
  },
  {
   "cell_type": "code",
   "execution_count": 33,
   "metadata": {},
   "outputs": [
    {
     "name": "stdout",
     "output_type": "stream",
     "text": [
      "[-10.53319192  -3.12400128  -4.8388106   -6.99429296  -1.6461373\n",
      "  -1.56605045  -6.34587252 -10.64480812  -9.40810289  -3.50192604\n",
      "  -8.09755296  -3.31450811  -2.39030919  -3.93580665  -4.17797224\n",
      "  -3.03884781 -11.2576844   -5.55249061  -4.27371712  -6.82825893\n",
      "  -9.32858832  -5.17836306  -2.40157823  -3.29650573  -6.53184568\n",
      "  -3.91638992  -5.13619217  -3.47400403  -4.47124435  -3.99110486\n",
      "  -7.66836084  -4.62573583  -3.69690682  -2.70106572  -3.45059647\n",
      "  -3.41708882 -10.67160288  -2.76522296  -2.68822767  -3.84942333\n",
      "  -1.75920891  -5.663432    -5.47563987  -5.76305353  -5.5215688\n",
      "  -6.49722218  -6.54910513  -4.16126375  -6.03393155  -5.67402362\n",
      "  -9.96687935  -1.97594889  -4.71632823  -3.08617077  -4.52015509\n",
      "  -6.15025414  -3.19039747  -2.01452277  -8.81805194  -7.9936401\n",
      " -11.27288951  -3.84565703  -2.62017595 -10.28581178  -2.46940357\n",
      "  -2.9691807   -3.20727797  -1.89005238  -2.84263786  -4.27060628\n",
      "  -4.33971819  -4.45143797  -6.80080025  -8.21196432  -3.58469078\n",
      "  -3.48211545  -5.76284791  -2.72548124  -7.91438677  -5.65234995\n",
      "  -4.27988995  -7.26338365  -6.38418327  -2.80480088  -4.9079295\n",
      "  -3.85751941  -3.56602888  -2.67502112  -5.75049511  -7.83895746\n",
      "  -9.05962836  -5.84848972  -4.50382326  -6.00440455  -2.64624791\n",
      "  -3.37161386 -13.36019206  -1.86805193  -3.05491669  -7.11748678\n",
      "  -5.23329227  -1.81634523  -7.75219814  -7.87916518 -12.03837024\n",
      "  -3.96596016  -2.6997911   -6.66990435  -3.62872677  -4.22024123\n",
      " -10.03693798  -4.15611622  -6.5703006   -4.95676709  -4.94012753\n",
      "  -5.39484476  -1.21246443  -9.24627125  -2.64132391  -9.93608937\n",
      "  -6.26443549 -11.28714534  -7.66260687  -6.62915349  -4.35547839\n",
      "  -3.61806081  -5.89199881  -6.10404653  -1.76731039 -10.86955114\n",
      "  -3.80012868  -6.44882485  -3.3196792   -6.27797547 -10.28357905\n",
      "  -4.8255924   -3.66958853  -2.34730058  -2.93952717  -2.24919719\n",
      "  -4.07960856  -5.13572527  -4.80007812  -3.42407097  -2.78810258\n",
      "  -3.03065603  -4.79862835  -4.16271522  -3.27056081  -2.17786501\n",
      "  -4.57946329  -3.22280902 -12.38075038  -4.22068336  -7.72758889\n",
      " -13.35690526  -5.74940553  -2.73371103 -10.33276643  -2.9440377\n",
      "  -4.12698122  -6.03837379  -4.10928704  -6.27327713  -4.5104053\n",
      "  -4.24240946  -8.98346526  -4.88662174  -5.4868501   -3.10959772\n",
      "  -1.49259238  -2.93339087  -9.82753642  -6.37527866  -2.89656279\n",
      "  -3.95779231  -4.97503648  -6.19178714  -2.61336373  -9.6493749\n",
      "  -2.3386727   -2.4564226   -3.18161563  -1.97565635  -3.69104023\n",
      "  -4.46511635  -4.9323169   -1.99975749  -2.90398037  -1.75144455\n",
      "  -4.60915806  -1.80574583  -1.79886075  -3.67804731  -4.58014388\n",
      "  -3.26866701  -5.07878647  -3.12676414 -12.32944589  -4.29856651\n",
      "  -2.23379408  -3.44280467  -4.60559008  -3.7934396   -3.75600346\n",
      "  -1.16329446  -5.08163871  -5.48937865  -5.17848202  -4.29715301\n",
      "  -1.58099146  -4.82700611  -2.43966801 -11.2662685   -5.47158131\n",
      "  -3.85404644  -4.11486306  -3.99029197  -2.61904945  -2.84982245\n",
      "  -4.80429641  -2.65650899  -2.66164498  -5.13044891  -4.45900639\n",
      "  -5.09435315  -7.75929404  -3.4967096   -3.23426128  -3.47666421\n",
      "  -3.00215523 -15.96903692 -17.06521374 -18.003187    -4.70985945\n",
      "  -3.06070384  -2.63670931  -3.82760656  -4.17806295  -7.52074544\n",
      "  -3.63379939  -4.34475063  -2.88937883  -3.19138653  -2.72789956\n",
      "  -4.66195538 -12.66809141  -5.52620521  -6.64231451  -2.58511315\n",
      "  -2.87333395  -3.5339451   -2.93007372  -3.3983187   -1.17200256\n",
      "  -6.66450343  -2.60392857  -7.67459706  -3.61647259  -2.55666384\n",
      " -12.26654466  -5.93743025  -7.310593    -6.24745612 -17.5242367\n",
      " -11.2113307  -17.20655916 -10.3688741  -10.74181167 -12.63542251\n",
      " -13.04182296 -10.56012282 -12.02642366 -13.99501297 -14.26378393\n",
      " -14.53597021 -13.69204988 -13.92605874 -14.62989323 -14.00920619\n",
      " -10.52375532 -16.04767441 -12.62509263  -9.19743649 -13.53754675\n",
      " -12.59143495 -12.29821946 -16.28139159 -16.16304767 -11.06814483\n",
      " -12.68448028 -12.70372654 -16.91369498 -16.77441677 -15.40686711\n",
      " -11.15109941 -16.96983329 -12.4119183  -16.46477282 -14.75125174\n",
      " -13.44324314 -15.26032641 -16.11266843 -14.67033517 -11.5948931\n",
      " -11.18643715 -12.36071414 -12.46551098 -17.68244129 -13.68833679\n",
      "  -9.99201601 -14.30097703 -12.7061774  -16.6618691  -17.99752316\n",
      " -15.76582145 -10.68939474 -14.12240751 -16.69743771 -12.44182495\n",
      " -12.1043308  -13.655306   -15.02947917 -12.25538673 -17.03251755\n",
      " -13.88973326 -17.76108257 -15.35376879 -10.58662467 -10.29471554\n",
      " -12.96944471 -14.75865102 -13.39135564 -12.35968276 -14.06152047\n",
      " -18.09601923 -15.13897678 -14.72350991 -15.23755683 -15.66063939\n",
      " -13.00209568 -11.71666651 -17.84908373 -14.72305417 -14.67743125\n",
      " -11.99163058 -16.52683999 -14.45213216 -17.17867055 -12.22357165\n",
      " -15.17609126 -10.22399961 -17.1315635  -18.16902502 -11.57806953\n",
      " -17.55312684 -15.49677134 -16.26154919 -16.64023636 -16.77391153\n",
      " -15.44560792 -17.75237781 -15.83579629 -14.84632998 -15.04442914\n",
      " -12.41530507 -15.87165473 -15.69879428 -15.09887254 -17.24532882\n",
      " -15.7652653  -15.26303292 -12.98752186 -17.15574942 -14.25598793\n",
      " -13.13727202 -12.62715217 -15.51807546 -13.93043933 -13.35239349\n",
      " -13.07571161 -12.10763544 -13.285086   -15.6135308  -16.11722768\n",
      " -15.25116861 -13.11828213 -15.84025265 -15.77767632 -13.50877544\n",
      " -16.15737788 -14.85323204 -11.18781417 -13.07167747 -12.77035082\n",
      " -18.89358124 -18.70536918 -12.45543777 -15.23555099 -13.71893451\n",
      " -13.83832562 -16.23852019 -13.28787681 -12.54134307 -12.20935608\n",
      " -18.42965143 -15.77249644 -12.01259689 -14.52236455 -14.15666952\n",
      " -10.78513384 -12.93464116 -14.34382369 -17.11601303  -9.85481902\n",
      " -13.22009728 -12.34794857 -13.86489618 -14.56530343 -15.00307642\n",
      " -16.41929109 -16.36197048 -14.98672466 -13.94558396]\n"
     ]
    }
   ],
   "source": [
    "print(symmetry_diff_test_data)"
   ]
  },
  {
   "cell_type": "code",
   "execution_count": 34,
   "metadata": {},
   "outputs": [
    {
     "name": "stdout",
     "output_type": "stream",
     "text": [
      "[ 1  1  1  1  1  1  1  1  1  1  1  1  1  1  1  1  1  1  1  1  1  1  1  1\n",
      "  1  1  1  1  1  1  1  1  1  1  1  1  1  1  1  1  1  1  1  1  1  1  1  1\n",
      "  1  1  1  1  1  1  1  1  1  1  1  1  1  1  1  1  1  1  1  1  1  1  1  1\n",
      "  1  1  1  1  1  1  1  1  1  1  1  1  1  1  1  1  1  1  1  1  1  1  1  1\n",
      "  1  1  1  1  1  1  1  1  1  1  1  1  1  1  1  1  1  1  1  1  1  1  1  1\n",
      "  1  1  1  1  1  1  1  1  1  1  1  1  1  1  1  1  1  1  1  1  1  1  1  1\n",
      "  1  1  1  1  1  1  1  1  1  1  1  1  1  1  1  1  1  1  1  1  1  1  1  1\n",
      "  1  1  1  1  1  1  1  1  1  1  1  1  1  1  1  1  1  1  1  1  1  1  1  1\n",
      "  1  1  1  1  1  1  1  1  1  1  1  1  1  1  1  1  1  1  1  1  1  1  1  1\n",
      "  1  1  1  1  1  1  1  1  1  1  1  1  1  1  1  1  1  1  1  1  1  1  1  1\n",
      "  1  1  1  1  1  1  1  1  1  1  1  1  1  1  1  1  1  1  1  1  1  1  1  1\n",
      " -1 -1 -1 -1 -1 -1 -1 -1 -1 -1 -1 -1 -1 -1 -1 -1 -1 -1 -1 -1 -1 -1 -1 -1\n",
      " -1 -1 -1 -1 -1 -1 -1 -1 -1 -1 -1 -1 -1 -1 -1 -1 -1 -1 -1 -1 -1 -1 -1 -1\n",
      " -1 -1 -1 -1 -1 -1 -1 -1 -1 -1 -1 -1 -1 -1 -1 -1 -1 -1 -1 -1 -1 -1 -1 -1\n",
      " -1 -1 -1 -1 -1 -1 -1 -1 -1 -1 -1 -1 -1 -1 -1 -1 -1 -1 -1 -1 -1 -1 -1 -1\n",
      " -1 -1 -1 -1 -1 -1 -1 -1 -1 -1 -1 -1 -1 -1 -1 -1 -1 -1 -1 -1 -1 -1 -1 -1\n",
      " -1 -1 -1 -1 -1 -1 -1 -1 -1 -1 -1 -1 -1 -1 -1 -1 -1 -1 -1 -1 -1 -1 -1 -1\n",
      " -1 -1 -1 -1 -1 -1 -1 -1 -1 -1 -1 -1 -1 -1 -1 -1]\n"
     ]
    }
   ],
   "source": [
    "print(test_labels)"
   ]
  },
  {
   "cell_type": "code",
   "execution_count": 35,
   "metadata": {},
   "outputs": [],
   "source": [
    "intensity_train_data=np.mean(train_data, axis=1)"
   ]
  },
  {
   "cell_type": "code",
   "execution_count": 36,
   "metadata": {},
   "outputs": [],
   "source": [
    "intensity_test_data=np.mean(test_data, axis=1)"
   ]
  },
  {
   "cell_type": "code",
   "execution_count": 37,
   "metadata": {},
   "outputs": [
    {
     "name": "stdout",
     "output_type": "stream",
     "text": [
      "[-0.75391406 -0.77228125 -0.76925781 ... -0.26407812 -0.28941406\n",
      " -0.53423828]\n"
     ]
    }
   ],
   "source": [
    "print(intensity_train_data)"
   ]
  },
  {
   "cell_type": "code",
   "execution_count": 38,
   "metadata": {},
   "outputs": [
    {
     "name": "stdout",
     "output_type": "stream",
     "text": [
      "[-0.68013281 -0.75078125 -0.56176562 -0.51044141 -0.788875   -0.69753516\n",
      " -0.59622266 -0.646625   -0.61341406 -0.59414453 -0.73628125 -0.66494531\n",
      " -0.77066797 -0.74038672 -0.72013281 -0.77421094 -0.77693359 -0.68936719\n",
      " -0.58141016 -0.59074219 -0.56409375 -0.75060938 -0.61794141 -0.60433203\n",
      " -0.57449219 -0.72608984 -0.63162109 -0.71365625 -0.73399609 -0.76015234\n",
      " -0.77635547 -0.77051563 -0.73899219 -0.7730625  -0.52739844 -0.67235156\n",
      " -0.72425781 -0.77819141 -0.66361719 -0.6094375  -0.74559375 -0.74504297\n",
      " -0.64710156 -0.69063672 -0.66680859 -0.64228906 -0.65045703 -0.69364063\n",
      " -0.61085547 -0.63594531 -0.71790625 -0.72008984 -0.74489844 -0.69705078\n",
      " -0.71834766 -0.51111328 -0.54296094 -0.71812109 -0.65021875 -0.48150391\n",
      " -0.56027734 -0.63512109 -0.80535547 -0.79852344 -0.69884766 -0.80431641\n",
      " -0.8150625  -0.77301172 -0.76580859 -0.82319141 -0.82080859 -0.76621094\n",
      " -0.58955469 -0.67101953 -0.71195312 -0.69321094 -0.67123438 -0.76852344\n",
      " -0.74001172 -0.70182031 -0.83106641 -0.71931641 -0.61869531 -0.56447656\n",
      " -0.71174219 -0.75027344 -0.79455859 -0.60290234 -0.59903516 -0.65053516\n",
      " -0.49656641 -0.63594531 -0.658      -0.55019141 -0.6370625  -0.65125781\n",
      " -0.69596094 -0.75315234 -0.67108594 -0.74083984 -0.57032031 -0.67041016\n",
      " -0.64324219 -0.69722656 -0.59933984 -0.65121875 -0.79267969 -0.71089844\n",
      " -0.60766016 -0.62627344 -0.66826562 -0.68480859 -0.76617578 -0.59173438\n",
      " -0.79584375 -0.72864453 -0.75650391 -0.53210156 -0.71596875 -0.70511719\n",
      " -0.64069531 -0.65421484 -0.86798438 -0.86342188 -0.71242187 -0.70947656\n",
      " -0.59143359 -0.61876562 -0.69555078 -0.74823828 -0.54130078 -0.77399609\n",
      " -0.72067578 -0.78203906 -0.55758984 -0.75346484 -0.79365625 -0.63274219\n",
      " -0.52542187 -0.69930469 -0.66012891 -0.74460547 -0.65630078 -0.74319922\n",
      " -0.73889844 -0.69976562 -0.83798047 -0.68199609 -0.74524219 -0.75575\n",
      " -0.76773438 -0.81384766 -0.72973437 -0.79090625 -0.41051953 -0.47379297\n",
      " -0.67521094 -0.77592187 -0.72864453 -0.76254297 -0.80017578 -0.68939453\n",
      " -0.61552344 -0.60591016 -0.68617969 -0.71755078 -0.65921875 -0.78773437\n",
      " -0.66446094 -0.62602734 -0.74454687 -0.68066797 -0.78       -0.82030859\n",
      " -0.79615625 -0.80760937 -0.724875   -0.63422656 -0.74114453 -0.77778125\n",
      " -0.69016016 -0.77726562 -0.81652734 -0.79672266 -0.73300391 -0.64267969\n",
      " -0.69741797 -0.69320703 -0.76202734 -0.78669141 -0.79473828 -0.77655078\n",
      " -0.75771875 -0.73285156 -0.56615234 -0.68053906 -0.83261719 -0.68459766\n",
      " -0.47109375 -0.77903516 -0.76310156 -0.72095313 -0.65265625 -0.64742188\n",
      " -0.74395703 -0.65234766 -0.64544531 -0.69251953 -0.61309375 -0.81478125\n",
      " -0.71810547 -0.49377344 -0.69549219 -0.62477734 -0.79470703 -0.75501172\n",
      " -0.78145703 -0.79937109 -0.76254687 -0.75194531 -0.70097656 -0.71375781\n",
      " -0.65626953 -0.73283984 -0.74362891 -0.63991016 -0.47223437 -0.68930859\n",
      " -0.70411328 -0.83055078 -0.68526562 -0.56377344 -0.48614844 -0.45849609\n",
      " -0.74610156 -0.77209375 -0.72771875 -0.75800781 -0.72065234 -0.6301875\n",
      " -0.59628516 -0.54777734 -0.60390234 -0.64783594 -0.54196094 -0.53553125\n",
      " -0.56575781 -0.64963281 -0.67442578 -0.56740234 -0.57882813 -0.66400781\n",
      " -0.77083594 -0.69133984 -0.76014453 -0.63766797 -0.6675625  -0.73596094\n",
      " -0.80748047 -0.72017578 -0.77021484 -0.61441797 -0.64599609 -0.62204687\n",
      " -0.35032031 -0.49764063 -0.25580078 -0.54045703 -0.41974609 -0.38682422\n",
      " -0.39361328 -0.71815234 -0.29539453 -0.50392969 -0.28723437 -0.52033984\n",
      " -0.21633984 -0.27827344 -0.30807812 -0.50479297 -0.58829297 -0.26557422\n",
      " -0.49666406 -0.60889453 -0.59607031 -0.60207422 -0.53095703 -0.12332031\n",
      " -0.35683984 -0.62055078 -0.40532812 -0.47216406 -0.42978516 -0.42662109\n",
      " -0.09669922 -0.48082422 -0.09705859  0.00690625 -0.11723438 -0.22004688\n",
      " -0.55445703 -0.30524609 -0.22467187 -0.28387109 -0.61751172 -0.61054688\n",
      " -0.61387109 -0.65267188 -0.22116016 -0.44539062 -0.51921094 -0.39514063\n",
      " -0.61671875 -0.46109766 -0.20182812 -0.26128516 -0.364875   -0.44332422\n",
      " -0.40910547 -0.67292969 -0.69245313 -0.43358203 -0.45079687 -0.64640625\n",
      " -0.19190234 -0.34136328 -0.24696484 -0.35254687 -0.62388672 -0.67519531\n",
      " -0.43107031 -0.50446875 -0.36104297 -0.58630859 -0.61500391 -0.32400781\n",
      " -0.40151953 -0.463875   -0.34735547 -0.29760547 -0.19253906 -0.51101953\n",
      " -0.22997266 -0.2874375  -0.4266875  -0.56775    -0.36532031 -0.30920313\n",
      " -0.35434766 -0.59610156 -0.44201953 -0.52978125 -0.15902344  0.21327734\n",
      " -0.50194922 -0.25203516 -0.09818359 -0.34608203 -0.34129297 -0.43075781\n",
      " -0.40682031 -0.21848828 -0.30482813 -0.08958203 -0.52189844 -0.6666875\n",
      " -0.14249219  0.09525391 -0.27482812 -0.19649609 -0.38755859 -0.13260547\n",
      " -0.51717188 -0.07255859 -0.56760937 -0.61555469 -0.54710938 -0.54275391\n",
      " -0.69213281 -0.36916406 -0.46532422 -0.33336719 -0.32282422 -0.36175\n",
      " -0.30197656 -0.54423438 -0.49307422 -0.58626563 -0.31484766 -0.52097266\n",
      " -0.44677344 -0.40996484 -0.42916797 -0.45419531 -0.51291406 -0.29735156\n",
      " -0.17796875 -0.42258203 -0.41195703 -0.16957031 -0.61482031 -0.21801953\n",
      " -0.61267578 -0.49355078 -0.29296875 -0.10014063 -0.25335937 -0.31069531\n",
      " -0.47794531 -0.43009375 -0.69114844 -0.61704297 -0.15745703 -0.22003516\n",
      " -0.63155078 -0.54958594 -0.54166797 -0.55314453 -0.27421094 -0.35169141\n",
      " -0.27935938 -0.10815234 -0.23003906 -0.32082813]\n"
     ]
    }
   ],
   "source": [
    "print(intensity_test_data)"
   ]
  },
  {
   "cell_type": "code",
   "execution_count": 39,
   "metadata": {},
   "outputs": [],
   "source": [
    "Represent1_train_data = np.column_stack((intensity_train_data,symmetry_diff_train_data))"
   ]
  },
  {
   "cell_type": "code",
   "execution_count": 40,
   "metadata": {},
   "outputs": [],
   "source": [
    "Represent1_test_data = np.column_stack((intensity_test_data,symmetry_diff_test_data))"
   ]
  },
  {
   "cell_type": "markdown",
   "metadata": {},
   "source": [
    "**(5 points)** Provide two scatter plots, one for training and one for test data. The plots should contain the average intensity values in the x-axis and symmetry values in the\n",
    "y-axis. Denote the data points of label 1 with blue marker shaped <font color='blue'>o</font> and the data points of label -1 with a red marker shaped <font color='red'>x</font>. (Hint: check out `plt.scatter` and its `marker` and `color` parameters). Explicitly state the axis labels and figure title for both plots (Hint: `plt.xlabel`, `plt.ylabel`, `plt.title`). "
   ]
  },
  {
   "cell_type": "code",
   "execution_count": 77,
   "metadata": {},
   "outputs": [],
   "source": [
    "Represent1_train_data_labelled = np.column_stack((Represent1_train_data,train_labels))"
   ]
  },
  {
   "cell_type": "code",
   "execution_count": 78,
   "metadata": {},
   "outputs": [],
   "source": [
    "Represent1_test_data_labelled = np.column_stack((Represent1_test_data,test_labels))"
   ]
  },
  {
   "cell_type": "code",
   "execution_count": 79,
   "metadata": {},
   "outputs": [
    {
     "data": {
      "image/png": "[encoded data removed]",
      "text/plain": [
       "<Figure size 432x288 with 1 Axes>"
      ]
     },
     "metadata": {
      "needs_background": "light"
     },
     "output_type": "display_data"
    }
   ],
   "source": [
    "fig = plt.figure()\n",
    "ax1 = fig.add_subplot(111)\n",
    "ax1.scatter(Represent1_train_data[train_labels==-1,0], Represent1_train_data[train_labels== -1,1], marker = 'x', color='red', label='five')\n",
    "ax1.scatter(Represent1_train_data[train_labels==1,0], Represent1_train_data[train_labels== 1,1], marker = 'o',facecolors='none', edgecolors='blue', label='one')\n",
    "plt.legend(loc='upper right')\n",
    "plt.xlabel('average intensity')\n",
    "plt.ylabel('symmetry')\n",
    "plt.title('Plot of Representation 1 / Training data')\n",
    "plt.show()"
   ]
  },
  {
   "cell_type": "code",
   "execution_count": null,
   "metadata": {},
   "outputs": [],
   "source": []
  },
  {
   "cell_type": "code",
   "execution_count": 81,
   "metadata": {},
   "outputs": [
    {
     "data": {
      "image/png": "[encoded data removed]",
      "text/plain": [
       "<Figure size 432x288 with 1 Axes>"
      ]
     },
     "metadata": {
      "needs_background": "light"
     },
     "output_type": "display_data"
    }
   ],
   "source": [
    "fig = plt.figure()\n",
    "ax1 = fig.add_subplot(111)\n",
    "ax1.scatter(Represent1_test_data[test_labels==-1,0], Represent1_test_data[test_labels== -1,1], marker = 'x', color='red', label='five')\n",
    "ax1.scatter(Represent1_test_data[test_labels==1,0], Represent1_test_data[test_labels== 1,1], marker = 'o', facecolors='none', edgecolors='blue', label='one')\n",
    "plt.legend(loc='upper right')\n",
    "plt.xlabel('average intensity')\n",
    "plt.ylabel('symmetry')\n",
    "plt.title('Plot of Representation 1 / Test data')\n",
    "plt.show()"
   ]
  },
  {
   "cell_type": "markdown",
   "metadata": {},
   "source": [
    "plt.scatter(Represent1_test_data_labelled[:,0], Represent1_test_data_labelled[:,1], c=Represent1_test_data_labelled[:,2])\n"
   ]
  },
  {
   "cell_type": "markdown",
   "metadata": {},
   "source": [
    "**(15 points) Implementing Representation 2:** Come up with an alternative feature extraction approach. The features can again be 2-D, or higher dimensional. If you use any external resource, please cite the references. Explain the feature extraction procedure clearly in your report; if it is an algorithm, provide the algorithm; if it is a function, provide the mathematical expressions. \n",
    "\n",
    "If your proposed features are 2-D or 3-D, provide the scatter plots similar to the previous step.\n",
    "\n",
    "We will refer this representation proposed by you as **Representation 2**."
   ]
  },
  {
   "cell_type": "code",
   "execution_count": null,
   "metadata": {},
   "outputs": [],
   "source": []
  },
  {
   "cell_type": "markdown",
   "metadata": {},
   "source": [
    "## Task 2: Logistic Regression (40 Pts)"
   ]
  },
  {
   "cell_type": "markdown",
   "metadata": {},
   "source": [
    "**(20 points)** Implement the logistic regression classifier from scratch with gradient descent and train it using Representation 1 and Representation 2 as inputs. Concatenate\n",
    "1 to your features for the intercept term, such that one data point will look like for 2-D features [1,$x_1$,$x_2$], and the model vector will be [$w_0, w_1, w_2$], where $w_0$ is the intercept parameter. \n",
    "You can refer to lecture notes (Logistic regression slides 29-30) to review the gradient descent learning algorithm and the logistic loss. To implement the gradient of the logistic loss with respect to $w$, first derive its expression by hand. Please include your derivation in your report.\n",
    "\n",
    "To prove that your implementation is converging, keep the loss values at each gradient descent iteration in a numpy array. After the training is finalized, plot the loss values\n",
    "with respect to iteration count (Hint: `plt.plot`). You should observe a decreasing loss as the number of iterations increases. Also, experiment with 5 different learning rates between 0 and 1, and plot the convergence curves for each learning rate in the same plot to observe the effect of the learning rate (step size) on the convergence. \n",
    "\n",
    "To decide when to terminate the gradient descent iterations, check the absolute difference between the current loss value and the loss value of the previous step. If the difference is less than a small number, such as $10^{-5}$, you can exit the loop."
   ]
  },
  {
   "cell_type": "code",
   "execution_count": null,
   "metadata": {},
   "outputs": [],
   "source": []
  },
  {
   "cell_type": "markdown",
   "metadata": {},
   "source": [
    "**(10 points)** Implement logistic regression with $\\ell_2$ norm regularization, $||\\mathbf{w}||_{2}^{2}$ . Show that your implementation is working by visualizing the loss over the iterations again. Visualization for a single learning rate and $\\lambda$ suffices. "
   ]
  },
  {
   "cell_type": "code",
   "execution_count": null,
   "metadata": {},
   "outputs": [],
   "source": []
  },
  {
   "cell_type": "markdown",
   "metadata": {},
   "source": [
    "**(10 points)** Implement a 5-fold cross validation procedure to find the optimal $\\lambda$ value for both Representation 1 and 2. Experiment with at least three different $\\lambda$ values between 0 and 1. Report the mean/std of cross validation accuracy of every representation/parameter combination as a table and clearly mark the best configuration in your report. "
   ]
  },
  {
   "cell_type": "code",
   "execution_count": null,
   "metadata": {},
   "outputs": [],
   "source": []
  },
  {
   "cell_type": "markdown",
   "metadata": {},
   "source": [
    "## Task 3: Evaluation (25 Pts)"
   ]
  },
  {
   "cell_type": "markdown",
   "metadata": {},
   "source": [
    "**(5 points)** Train the logistic regression classifier on Representation 1 and 2 with the best learning rate you decide. Similarly, train the regularized logistic regression classifier with the best $\\lambda$ you obtained by 5-fold cross validation. Report the training and test classification accuracy as \n",
    "\\begin{align*}\n",
    "\\frac{\\text{number of correctly classified samples}}{\\text{total number of samples}}x100\n",
    "\\end{align*}"
   ]
  },
  {
   "cell_type": "code",
   "execution_count": null,
   "metadata": {},
   "outputs": [],
   "source": []
  },
  {
   "cell_type": "markdown",
   "metadata": {},
   "source": [
    "**(15 points)** Visualize the decision boundary (the line that is given by $\\mathbf{w}^{T}x=0$) obtained from the logistic regression classifier learned without regularization. For this purpose, use only Representation 1. Provide two scatter plots for training and test data points with the decision boundary shown on each of the plots."
   ]
  },
  {
   "cell_type": "code",
   "execution_count": null,
   "metadata": {},
   "outputs": [],
   "source": []
  },
  {
   "cell_type": "markdown",
   "metadata": {},
   "source": [
    "**(5 points)** Comment on your work in your report. Include the answers for the following questions in your discussion. \n",
    "\n",
    "* Did regularization improve the generalization performance (did it help reducing the gap between training and test accuracies/errors)? Did you observe any difference between using Representation 1 and 2?\n",
    "* Which feature set did give the best results? Which one is more discriminative?\n",
    "* What would be your next step to improve test accuracy? "
   ]
  }
 ],
 "metadata": {
  "kernelspec": {
   "display_name": "Python 3",
   "language": "python",
   "name": "python3"
  },
  "language_info": {
   "codemirror_mode": {
    "name": "ipython",
    "version": 3
   },
   "file_extension": ".py",
   "mimetype": "text/x-python",
   "name": "python",
   "nbconvert_exporter": "python",
   "pygments_lexer": "ipython3",
   "version": "3.7.4"
  }
 },
 "nbformat": 4,
 "nbformat_minor": 2
}
